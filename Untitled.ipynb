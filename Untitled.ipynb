{
 "cells": [
  {
   "cell_type": "markdown",
   "id": "7956fe8b-4f21-4699-bb49-126d1a12ceeb",
   "metadata": {},
   "source": [
    "# Notebook Titanic con datos de Kaggle"
   ]
  },
  {
   "cell_type": "markdown",
   "id": "dccb4d3e-fb54-40ee-8c7d-d7be8ccedf40",
   "metadata": {},
   "source": [
    "## Celda 1 — imports y ajustes"
   ]
  },
  {
   "cell_type": "code",
   "execution_count": null,
   "id": "9a40c687-e3a9-4b43-9dea-4b01abea5947",
   "metadata": {},
   "outputs": [],
   "source": [
    "%matplotlib inline\n",
    "import warnings\n",
    "warnings.filterwarnings(\"ignore\")\n",
    "\n",
    "import numpy as np\n",
    "import pandas as pd\n",
    "import matplotlib.pyplot as plt\n",
    "import seaborn as sns\n",
    "from scipy import stats\n",
    "from sklearn.impute import SimpleImputer"
   ]
  },
  {
   "cell_type": "markdown",
   "id": "9ea17125-7463-4734-9887-2654bf94bbda",
   "metadata": {},
   "source": [
    "## Celda 2 — cargar Kaggle CSV (normalizamos nombres)"
   ]
  },
  {
   "cell_type": "code",
   "execution_count": null,
   "id": "8610e4eb-37af-4ade-8c1c-e6cb3e4f8bf0",
   "metadata": {},
   "outputs": [],
   "source": [
    "train = pd.read_csv(\"data/train.csv\")\n",
    "\n",
    "cols_map = {\n",
    "    \"Survived\": \"survived\",\n",
    "    \"Pclass\":   \"pclass\",\n",
    "    \"Sex\":      \"sex\",\n",
    "    \"Age\":      \"age\",\n",
    "    \"SibSp\":    \"sibsp\",\n",
    "    \"Parch\":    \"parch\",\n",
    "    \"Fare\":     \"fare\",\n",
    "    \"Embarked\": \"embarked\",\n",
    "}\n",
    "existing = [c for c in cols_map if c in train.columns]\n",
    "df = train[existing].rename(columns=cols_map)\n",
    "\n",
    "# Tipos recomendados\n",
    "if \"survived\" in df.columns:\n",
    "    df[\"survived\"] = df[\"survived\"].astype(int)\n",
    "if \"sex\" in df.columns:\n",
    "    df[\"sex\"] = df[\"sex\"].astype(\"category\")\n",
    "if \"embarked\" in df.columns:\n",
    "    df[\"embarked\"] = df[\"embarked\"].astype(\"category\")\n",
    "\n",
    "display(df.head())\n",
    "print(\"Shape:\", df.shape)\n",
    "print(df.dtypes)\n"
   ]
  },
  {
   "cell_type": "markdown",
   "id": "2064d5f3-4fe7-4a8c-9d28-970efb127eb4",
   "metadata": {},
   "source": [
    "## Celda 3 — inspección inicial"
   ]
  },
  {
   "cell_type": "code",
   "execution_count": null,
   "id": "2fb6f91b-a1c6-427d-bd78-74f93fcaf24f",
   "metadata": {},
   "outputs": [],
   "source": [
    "print(\"Nulos por columna:\")\n",
    "display(df.isna().sum())\n",
    "\n",
    "print(\"\\nEstadísticas (numéricas):\")\n",
    "display(df.describe())\n",
    "\n",
    "cat_cols = df.select_dtypes(include=[\"object\", \"category\"]).columns\n",
    "if len(cat_cols):\n",
    "    print(\"\\nEstadísticas (categóricas):\")\n",
    "    display(df[cat_cols].describe())\n",
    "else:\n",
    "    print(\"\\n(No hay columnas 'object'/'category' para describir)\")\n",
    "\n",
    "print(\"\\nCardinalidad categóricas:\")\n",
    "display(df[cat_cols].nunique() if len(cat_cols) else \"—\")\n"
   ]
  },
  {
   "cell_type": "markdown",
   "id": "eed52981-f771-47e3-ae26-3165565bdc98",
   "metadata": {},
   "source": [
    "## Celda 4 — limpieza (duplicados, imputación, feature)"
   ]
  },
  {
   "cell_type": "code",
   "execution_count": null,
   "id": "535980ff-0b1b-4259-865d-56032064e6f2",
   "metadata": {},
   "outputs": [],
   "source": [
    "before = len(df)\n",
    "df = df.drop_duplicates()\n",
    "print(\"Duplicados eliminados:\", before - len(df))\n",
    "\n",
    "# Imputación segura (usar ravel() para evitar error 2D)\n",
    "if \"age\" in df.columns:\n",
    "    df[\"age\"] = SimpleImputer(strategy=\"median\").fit_transform(df[[\"age\"]]).ravel()\n",
    "\n",
    "if \"embarked\" in df.columns:\n",
    "    df[\"embarked\"] = df[\"embarked\"].astype(object)\n",
    "    df[\"embarked\"] = SimpleImputer(strategy=\"most_frequent\").fit_transform(df[[\"embarked\"]]).ravel()\n",
    "    df[\"embarked\"] = df[\"embarked\"].astype(\"category\")\n",
    "\n",
    "if set([\"sibsp\",\"parch\"]).issubset(df.columns):\n",
    "    df[[\"sibsp\",\"parch\"]] = df[[\"sibsp\",\"parch\"]].fillna(0)\n",
    "    df[\"family_size\"] = df[\"sibsp\"] + df[\"parch\"] + 1\n",
    "\n",
    "cols_verif = [c for c in [\"age\",\"embarked\"] if c in df.columns]\n",
    "if cols_verif:\n",
    "    print(\"\\nNulos tras imputación:\")\n",
    "    display(df[cols_verif].isna().sum())\n"
   ]
  },
  {
   "cell_type": "markdown",
   "id": "5adc769e-41be-4f56-87e5-97d313701edc",
   "metadata": {},
   "source": [
    "## Celda 5 — univariado"
   ]
  },
  {
   "cell_type": "code",
   "execution_count": null,
   "id": "fff0c49e-8eb3-4313-95ac-e8b07fc32228",
   "metadata": {},
   "outputs": [],
   "source": [
    "df[\"age\"].dropna().plot(kind=\"hist\", bins=30)\n",
    "plt.title(\"Distribución de edad\")\n",
    "plt.xlabel(\"Edad\"); plt.ylabel(\"Frecuencia\")\n",
    "plt.show()\n",
    "\n",
    "sns.countplot(x=\"survived\", data=df)\n",
    "plt.title(\"Conteo: sobrevivió (0/1)\")\n",
    "plt.show()\n"
   ]
  },
  {
   "cell_type": "markdown",
   "id": "67840c4b-de6a-4e3c-8cd4-596a7c0d5440",
   "metadata": {},
   "source": [
    "## Celda 6 — bivariado"
   ]
  },
  {
   "cell_type": "code",
   "execution_count": null,
   "id": "a108ced2-9b34-4636-8be0-5e647cc6a1fd",
   "metadata": {},
   "outputs": [],
   "source": [
    "if \"fare\" in df.columns:\n",
    "    sns.boxplot(x=\"survived\", y=\"fare\", data=df)\n",
    "    plt.title(\"Fare por sobrevivencia\")\n",
    "    plt.show()\n",
    "\n",
    "if set([\"sex\",\"survived\"]).issubset(df.columns):\n",
    "    sns.countplot(x=\"sex\", hue=\"survived\", data=df)\n",
    "    plt.title(\"Sobrevivencia por sexo\")\n",
    "    plt.show()\n"
   ]
  },
  {
   "cell_type": "markdown",
   "id": "b295db83-f7e3-41a2-b22d-f1ce9babc6f3",
   "metadata": {},
   "source": [
    "## Celda 7 — correlación y outliers"
   ]
  },
  {
   "cell_type": "code",
   "execution_count": null,
   "id": "f17b286f-0a59-42af-abe4-a2009b0b9772",
   "metadata": {},
   "outputs": [],
   "source": [
    "num_df = df.select_dtypes(include=[np.number])\n",
    "corr = num_df.corr(numeric_only=True)\n",
    "sns.heatmap(corr, annot=True, fmt=\".2f\", linewidths=.5)\n",
    "plt.title(\"Matriz de correlación\")\n",
    "plt.show()\n",
    "\n",
    "def outlier_mask_iqr(series, k=1.5):\n",
    "    q1, q3 = np.percentile(series.dropna(), [25, 75])\n",
    "    iqr = q3 - q1\n",
    "    low, high = q1 - k*iqr, q3 + k*iqr\n",
    "    return (series < low) | (series > high), (low, high)\n",
    "\n",
    "for col in [\"age\",\"fare\"]:\n",
    "    if col in df.columns:\n",
    "        mask, (lo, hi) = outlier_mask_iqr(df[col])\n",
    "        print(f\"Outliers en {col}: {int(mask.sum())} (límites: {lo:.2f}, {hi:.2f})\")\n",
    "        sns.boxplot(x=df[col]); plt.title(f\"Boxplot {col} (IQR)\"); plt.show()\n",
    "if set([\"fare\",\"survived\"]).issubset(df.columns):\n",
    "    g1 = df.loc[df[\"survived\"]==1, \"fare\"].dropna()\n",
    "    g0 = df.loc[df[\"survived\"]==0, \"fare\"].dropna()\n",
    "    t_stat, p_val = stats.ttest_ind(g1, g0, equal_var=False)\n",
    "    print(f\"T-test fare | survived: t={t_stat:.3f}, p={p_val:.3e}\")\n",
    "\n",
    "if set([\"sex\",\"survived\"]).issubset(df.columns):\n",
    "    cont = pd.crosstab(df[\"sex\"], df[\"survived\"])\n",
    "    chi2, p, dof, _ = stats.chi2_contingency(cont)\n",
    "    print(\"Chi-cuadrado sex ~ survived:\")\n",
    "    display(cont)\n",
    "    print(f\"chi2={chi2:.3f}, dof={dof}, p={p:.3e}\")\n"
   ]
  },
  {
   "cell_type": "markdown",
   "id": "18aae116-ae14-4c77-bffe-aea5b93c18bd",
   "metadata": {},
   "source": [
    "## Celda 8 — tests de hipótesis"
   ]
  },
  {
   "cell_type": "code",
   "execution_count": null,
   "id": "a7737337-c36a-40f1-8763-48652ad588a3",
   "metadata": {},
   "outputs": [],
   "source": [
    "if set([\"fare\",\"survived\"]).issubset(df.columns):\n",
    "    g1 = df.loc[df[\"survived\"]==1, \"fare\"].dropna()\n",
    "    g0 = df.loc[df[\"survived\"]==0, \"fare\"].dropna()\n",
    "    t_stat, p_val = stats.ttest_ind(g1, g0, equal_var=False)\n",
    "    print(f\"T-test fare | survived: t={t_stat:.3f}, p={p_val:.3e}\")\n",
    "\n",
    "if set([\"sex\",\"survived\"]).issubset(df.columns):\n",
    "    cont = pd.crosstab(df[\"sex\"], df[\"survived\"])\n",
    "    chi2, p, dof, _ = stats.chi2_contingency(cont)\n",
    "    print(\"Chi-cuadrado sex ~ survived:\")\n",
    "    display(cont)\n",
    "    print(f\"chi2={chi2:.3f}, dof={dof}, p={p:.3e}\")\n",
    "\n"
   ]
  },
  {
   "cell_type": "markdown",
   "id": "deae5930-2b73-41d0-85c4-e5a859181058",
   "metadata": {},
   "source": [
    "## Celda 9 — exportar CSVs limpios"
   ]
  },
  {
   "cell_type": "code",
   "execution_count": null,
   "id": "8dc2e8b0-5d82-4bef-98dd-3e7c4a1e28fb",
   "metadata": {},
   "outputs": [],
   "source": [
    "df_encoded = pd.get_dummies(df, drop_first=True)\n",
    "df.to_csv(\"titanic_clean.csv\", index=False)\n",
    "df_encoded.to_csv(\"titanic_encoded.csv\", index=False)\n",
    "print(\"Guardados: titanic_clean.csv, titanic_encoded.csv\")\n"
   ]
  }
 ],
 "metadata": {
  "kernelspec": {
   "display_name": "",
   "name": ""
  },
  "language_info": {
   "name": ""
  }
 },
 "nbformat": 4,
 "nbformat_minor": 5
}
