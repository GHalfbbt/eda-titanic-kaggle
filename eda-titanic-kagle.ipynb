{
 "cells": [
  {
   "cell_type": "markdown",
   "id": "7956fe8b-4f21-4699-bb49-126d1a12ceeb",
   "metadata": {},
   "source": [
    "# Notebook Titanic con datos de Kaggle"
   ]
  },
  {
   "cell_type": "markdown",
   "id": "dccb4d3e-fb54-40ee-8c7d-d7be8ccedf40",
   "metadata": {},
   "source": [
    "## Celda 1 — imports y ajustes"
   ]
  },
  {
   "cell_type": "code",
   "execution_count": 1,
   "id": "9a40c687-e3a9-4b43-9dea-4b01abea5947",
   "metadata": {},
   "outputs": [],
   "source": [
    "%matplotlib inline\n",
    "import warnings\n",
    "warnings.filterwarnings(\"ignore\")\n",
    "\n",
    "import numpy as np\n",
    "import pandas as pd\n",
    "import matplotlib.pyplot as plt\n",
    "import seaborn as sns\n",
    "from scipy import stats\n",
    "from sklearn.impute import SimpleImputer"
   ]
  },
  {
   "cell_type": "markdown",
   "id": "9ea17125-7463-4734-9887-2654bf94bbda",
   "metadata": {},
   "source": [
    "## Celda 2 — cargar Kaggle CSV (normalizamos nombres)"
   ]
  },
  {
   "cell_type": "markdown",
   "id": "b99007d8-629e-4139-8b53-45b10043ee8a",
   "metadata": {},
   "source": [
    "**FASE 1: Reconocimiento**\n",
    "Carga 891 pasajeros, 15 características\n",
    "Identifica tipos: numéricos vs categóricos vs texto"
   ]
  },
  {
   "cell_type": "code",
   "execution_count": 2,
   "id": "8610e4eb-37af-4ade-8c1c-e6cb3e4f8bf0",
   "metadata": {},
   "outputs": [
    {
     "data": {
      "text/html": [
       "<div>\n",
       "<style scoped>\n",
       "    .dataframe tbody tr th:only-of-type {\n",
       "        vertical-align: middle;\n",
       "    }\n",
       "\n",
       "    .dataframe tbody tr th {\n",
       "        vertical-align: top;\n",
       "    }\n",
       "\n",
       "    .dataframe thead th {\n",
       "        text-align: right;\n",
       "    }\n",
       "</style>\n",
       "<table border=\"1\" class=\"dataframe\">\n",
       "  <thead>\n",
       "    <tr style=\"text-align: right;\">\n",
       "      <th></th>\n",
       "      <th>survived</th>\n",
       "      <th>pclass</th>\n",
       "      <th>sex</th>\n",
       "      <th>age</th>\n",
       "      <th>sibsp</th>\n",
       "      <th>parch</th>\n",
       "      <th>fare</th>\n",
       "      <th>embarked</th>\n",
       "    </tr>\n",
       "  </thead>\n",
       "  <tbody>\n",
       "    <tr>\n",
       "      <th>0</th>\n",
       "      <td>0</td>\n",
       "      <td>3</td>\n",
       "      <td>male</td>\n",
       "      <td>22.0</td>\n",
       "      <td>1</td>\n",
       "      <td>0</td>\n",
       "      <td>7.2500</td>\n",
       "      <td>S</td>\n",
       "    </tr>\n",
       "    <tr>\n",
       "      <th>1</th>\n",
       "      <td>1</td>\n",
       "      <td>1</td>\n",
       "      <td>female</td>\n",
       "      <td>38.0</td>\n",
       "      <td>1</td>\n",
       "      <td>0</td>\n",
       "      <td>71.2833</td>\n",
       "      <td>C</td>\n",
       "    </tr>\n",
       "    <tr>\n",
       "      <th>2</th>\n",
       "      <td>1</td>\n",
       "      <td>3</td>\n",
       "      <td>female</td>\n",
       "      <td>26.0</td>\n",
       "      <td>0</td>\n",
       "      <td>0</td>\n",
       "      <td>7.9250</td>\n",
       "      <td>S</td>\n",
       "    </tr>\n",
       "    <tr>\n",
       "      <th>3</th>\n",
       "      <td>1</td>\n",
       "      <td>1</td>\n",
       "      <td>female</td>\n",
       "      <td>35.0</td>\n",
       "      <td>1</td>\n",
       "      <td>0</td>\n",
       "      <td>53.1000</td>\n",
       "      <td>S</td>\n",
       "    </tr>\n",
       "    <tr>\n",
       "      <th>4</th>\n",
       "      <td>0</td>\n",
       "      <td>3</td>\n",
       "      <td>male</td>\n",
       "      <td>35.0</td>\n",
       "      <td>0</td>\n",
       "      <td>0</td>\n",
       "      <td>8.0500</td>\n",
       "      <td>S</td>\n",
       "    </tr>\n",
       "  </tbody>\n",
       "</table>\n",
       "</div>"
      ],
      "text/plain": [
       "   survived  pclass     sex   age  sibsp  parch     fare embarked\n",
       "0         0       3    male  22.0      1      0   7.2500        S\n",
       "1         1       1  female  38.0      1      0  71.2833        C\n",
       "2         1       3  female  26.0      0      0   7.9250        S\n",
       "3         1       1  female  35.0      1      0  53.1000        S\n",
       "4         0       3    male  35.0      0      0   8.0500        S"
      ]
     },
     "metadata": {},
     "output_type": "display_data"
    },
    {
     "name": "stdout",
     "output_type": "stream",
     "text": [
      "Shape: (891, 8)\n",
      "survived       int64\n",
      "pclass         int64\n",
      "sex         category\n",
      "age          float64\n",
      "sibsp          int64\n",
      "parch          int64\n",
      "fare         float64\n",
      "embarked    category\n",
      "dtype: object\n"
     ]
    }
   ],
   "source": [
    "train = pd.read_csv(\"data/train.csv\")\n",
    "\n",
    "cols_map = {\n",
    "    \"Survived\": \"survived\",\n",
    "    \"Pclass\":   \"pclass\",\n",
    "    \"Sex\":      \"sex\",\n",
    "    \"Age\":      \"age\",\n",
    "    \"SibSp\":    \"sibsp\",\n",
    "    \"Parch\":    \"parch\",\n",
    "    \"Fare\":     \"fare\",\n",
    "    \"Embarked\": \"embarked\",\n",
    "}\n",
    "existing = [c for c in cols_map if c in train.columns]\n",
    "df = train[existing].rename(columns=cols_map)\n",
    "\n",
    "# Tipos recomendados\n",
    "if \"survived\" in df.columns:\n",
    "    df[\"survived\"] = df[\"survived\"].astype(int)\n",
    "if \"sex\" in df.columns:\n",
    "    df[\"sex\"] = df[\"sex\"].astype(\"category\")\n",
    "if \"embarked\" in df.columns:\n",
    "    df[\"embarked\"] = df[\"embarked\"].astype(\"category\")\n",
    "\n",
    "display(df.head())\n",
    "print(\"Shape:\", df.shape)\n",
    "print(df.dtypes)\n"
   ]
  },
  {
   "cell_type": "markdown",
   "id": "2064d5f3-4fe7-4a8c-9d28-970efb127eb4",
   "metadata": {},
   "source": [
    "## Celda 3 — inspección inicial"
   ]
  },
  {
   "cell_type": "markdown",
   "id": "82599579-c264-4674-9b97-31bd02e9dada",
   "metadata": {},
   "source": [
    "**FASE 2: Diagnóstico**\n",
    "\n",
    "Detecta: age (177 nulos), cabin (687 nulos), embarked (2 nulos)\n",
    "Estadísticas: 38% supervivencia, edades 0.42-80 años, tarifas 0-512£"
   ]
  },
  {
   "cell_type": "code",
   "execution_count": 3,
   "id": "2fb6f91b-a1c6-427d-bd78-74f93fcaf24f",
   "metadata": {},
   "outputs": [
    {
     "name": "stdout",
     "output_type": "stream",
     "text": [
      "Nulos por columna:\n"
     ]
    },
    {
     "data": {
      "text/plain": [
       "survived      0\n",
       "pclass        0\n",
       "sex           0\n",
       "age         177\n",
       "sibsp         0\n",
       "parch         0\n",
       "fare          0\n",
       "embarked      2\n",
       "dtype: int64"
      ]
     },
     "metadata": {},
     "output_type": "display_data"
    },
    {
     "name": "stdout",
     "output_type": "stream",
     "text": [
      "\n",
      "Estadísticas (numéricas):\n"
     ]
    },
    {
     "data": {
      "text/html": [
       "<div>\n",
       "<style scoped>\n",
       "    .dataframe tbody tr th:only-of-type {\n",
       "        vertical-align: middle;\n",
       "    }\n",
       "\n",
       "    .dataframe tbody tr th {\n",
       "        vertical-align: top;\n",
       "    }\n",
       "\n",
       "    .dataframe thead th {\n",
       "        text-align: right;\n",
       "    }\n",
       "</style>\n",
       "<table border=\"1\" class=\"dataframe\">\n",
       "  <thead>\n",
       "    <tr style=\"text-align: right;\">\n",
       "      <th></th>\n",
       "      <th>survived</th>\n",
       "      <th>pclass</th>\n",
       "      <th>age</th>\n",
       "      <th>sibsp</th>\n",
       "      <th>parch</th>\n",
       "      <th>fare</th>\n",
       "    </tr>\n",
       "  </thead>\n",
       "  <tbody>\n",
       "    <tr>\n",
       "      <th>count</th>\n",
       "      <td>891.000000</td>\n",
       "      <td>891.000000</td>\n",
       "      <td>714.000000</td>\n",
       "      <td>891.000000</td>\n",
       "      <td>891.000000</td>\n",
       "      <td>891.000000</td>\n",
       "    </tr>\n",
       "    <tr>\n",
       "      <th>mean</th>\n",
       "      <td>0.383838</td>\n",
       "      <td>2.308642</td>\n",
       "      <td>29.699118</td>\n",
       "      <td>0.523008</td>\n",
       "      <td>0.381594</td>\n",
       "      <td>32.204208</td>\n",
       "    </tr>\n",
       "    <tr>\n",
       "      <th>std</th>\n",
       "      <td>0.486592</td>\n",
       "      <td>0.836071</td>\n",
       "      <td>14.526497</td>\n",
       "      <td>1.102743</td>\n",
       "      <td>0.806057</td>\n",
       "      <td>49.693429</td>\n",
       "    </tr>\n",
       "    <tr>\n",
       "      <th>min</th>\n",
       "      <td>0.000000</td>\n",
       "      <td>1.000000</td>\n",
       "      <td>0.420000</td>\n",
       "      <td>0.000000</td>\n",
       "      <td>0.000000</td>\n",
       "      <td>0.000000</td>\n",
       "    </tr>\n",
       "    <tr>\n",
       "      <th>25%</th>\n",
       "      <td>0.000000</td>\n",
       "      <td>2.000000</td>\n",
       "      <td>20.125000</td>\n",
       "      <td>0.000000</td>\n",
       "      <td>0.000000</td>\n",
       "      <td>7.910400</td>\n",
       "    </tr>\n",
       "    <tr>\n",
       "      <th>50%</th>\n",
       "      <td>0.000000</td>\n",
       "      <td>3.000000</td>\n",
       "      <td>28.000000</td>\n",
       "      <td>0.000000</td>\n",
       "      <td>0.000000</td>\n",
       "      <td>14.454200</td>\n",
       "    </tr>\n",
       "    <tr>\n",
       "      <th>75%</th>\n",
       "      <td>1.000000</td>\n",
       "      <td>3.000000</td>\n",
       "      <td>38.000000</td>\n",
       "      <td>1.000000</td>\n",
       "      <td>0.000000</td>\n",
       "      <td>31.000000</td>\n",
       "    </tr>\n",
       "    <tr>\n",
       "      <th>max</th>\n",
       "      <td>1.000000</td>\n",
       "      <td>3.000000</td>\n",
       "      <td>80.000000</td>\n",
       "      <td>8.000000</td>\n",
       "      <td>6.000000</td>\n",
       "      <td>512.329200</td>\n",
       "    </tr>\n",
       "  </tbody>\n",
       "</table>\n",
       "</div>"
      ],
      "text/plain": [
       "         survived      pclass         age       sibsp       parch        fare\n",
       "count  891.000000  891.000000  714.000000  891.000000  891.000000  891.000000\n",
       "mean     0.383838    2.308642   29.699118    0.523008    0.381594   32.204208\n",
       "std      0.486592    0.836071   14.526497    1.102743    0.806057   49.693429\n",
       "min      0.000000    1.000000    0.420000    0.000000    0.000000    0.000000\n",
       "25%      0.000000    2.000000   20.125000    0.000000    0.000000    7.910400\n",
       "50%      0.000000    3.000000   28.000000    0.000000    0.000000   14.454200\n",
       "75%      1.000000    3.000000   38.000000    1.000000    0.000000   31.000000\n",
       "max      1.000000    3.000000   80.000000    8.000000    6.000000  512.329200"
      ]
     },
     "metadata": {},
     "output_type": "display_data"
    },
    {
     "name": "stdout",
     "output_type": "stream",
     "text": [
      "\n",
      "Estadísticas (categóricas):\n"
     ]
    },
    {
     "data": {
      "text/html": [
       "<div>\n",
       "<style scoped>\n",
       "    .dataframe tbody tr th:only-of-type {\n",
       "        vertical-align: middle;\n",
       "    }\n",
       "\n",
       "    .dataframe tbody tr th {\n",
       "        vertical-align: top;\n",
       "    }\n",
       "\n",
       "    .dataframe thead th {\n",
       "        text-align: right;\n",
       "    }\n",
       "</style>\n",
       "<table border=\"1\" class=\"dataframe\">\n",
       "  <thead>\n",
       "    <tr style=\"text-align: right;\">\n",
       "      <th></th>\n",
       "      <th>sex</th>\n",
       "      <th>embarked</th>\n",
       "    </tr>\n",
       "  </thead>\n",
       "  <tbody>\n",
       "    <tr>\n",
       "      <th>count</th>\n",
       "      <td>891</td>\n",
       "      <td>889</td>\n",
       "    </tr>\n",
       "    <tr>\n",
       "      <th>unique</th>\n",
       "      <td>2</td>\n",
       "      <td>3</td>\n",
       "    </tr>\n",
       "    <tr>\n",
       "      <th>top</th>\n",
       "      <td>male</td>\n",
       "      <td>S</td>\n",
       "    </tr>\n",
       "    <tr>\n",
       "      <th>freq</th>\n",
       "      <td>577</td>\n",
       "      <td>644</td>\n",
       "    </tr>\n",
       "  </tbody>\n",
       "</table>\n",
       "</div>"
      ],
      "text/plain": [
       "         sex embarked\n",
       "count    891      889\n",
       "unique     2        3\n",
       "top     male        S\n",
       "freq     577      644"
      ]
     },
     "metadata": {},
     "output_type": "display_data"
    },
    {
     "name": "stdout",
     "output_type": "stream",
     "text": [
      "\n",
      "Cardinalidad categóricas:\n"
     ]
    },
    {
     "data": {
      "text/plain": [
       "sex         2\n",
       "embarked    3\n",
       "dtype: int64"
      ]
     },
     "metadata": {},
     "output_type": "display_data"
    }
   ],
   "source": [
    "print(\"Nulos por columna:\")\n",
    "display(df.isna().sum())\n",
    "\n",
    "print(\"\\nEstadísticas (numéricas):\")\n",
    "display(df.describe())\n",
    "\n",
    "cat_cols = df.select_dtypes(include=[\"object\", \"category\"]).columns\n",
    "if len(cat_cols):\n",
    "    print(\"\\nEstadísticas (categóricas):\")\n",
    "    display(df[cat_cols].describe())\n",
    "else:\n",
    "    print(\"\\n(No hay columnas 'object'/'category' para describir)\")\n",
    "\n",
    "print(\"\\nCardinalidad categóricas:\")\n",
    "display(df[cat_cols].nunique() if len(cat_cols) else \"—\")\n"
   ]
  },
  {
   "cell_type": "markdown",
   "id": "eed52981-f771-47e3-ae26-3165565bdc98",
   "metadata": {},
   "source": [
    "## Celda 4 — limpieza (duplicados, imputación, feature)"
   ]
  },
  {
   "cell_type": "markdown",
   "id": "02242a42-2837-4ab0-8c73-d5f7dd17bafc",
   "metadata": {},
   "source": [
    "**FASE 3: Limpieza**\n",
    "\n",
    "Imputa age con mediana (más robusta que media)\n",
    "Imputa embarked con moda\n",
    "Crea family_size = siblings + parents + 1"
   ]
  },
  {
   "cell_type": "code",
   "execution_count": 4,
   "id": "535980ff-0b1b-4259-865d-56032064e6f2",
   "metadata": {},
   "outputs": [
    {
     "name": "stdout",
     "output_type": "stream",
     "text": [
      "Duplicados eliminados: 111\n",
      "\n",
      "Nulos tras imputación:\n"
     ]
    },
    {
     "data": {
      "text/plain": [
       "age         0\n",
       "embarked    0\n",
       "dtype: int64"
      ]
     },
     "metadata": {},
     "output_type": "display_data"
    }
   ],
   "source": [
    "before = len(df)\n",
    "df = df.drop_duplicates()\n",
    "print(\"Duplicados eliminados:\", before - len(df))\n",
    "\n",
    "# Imputación segura (usar ravel() para evitar error 2D)\n",
    "if \"age\" in df.columns:\n",
    "    df[\"age\"] = SimpleImputer(strategy=\"median\").fit_transform(df[[\"age\"]]).ravel()\n",
    "\n",
    "if \"embarked\" in df.columns:\n",
    "    df[\"embarked\"] = df[\"embarked\"].astype(object)\n",
    "    df[\"embarked\"] = SimpleImputer(strategy=\"most_frequent\").fit_transform(df[[\"embarked\"]]).ravel()\n",
    "    df[\"embarked\"] = df[\"embarked\"].astype(\"category\")\n",
    "\n",
    "if set([\"sibsp\",\"parch\"]).issubset(df.columns):\n",
    "    df[[\"sibsp\",\"parch\"]] = df[[\"sibsp\",\"parch\"]].fillna(0)\n",
    "    df[\"family_size\"] = df[\"sibsp\"] + df[\"parch\"] + 1\n",
    "\n",
    "cols_verif = [c for c in [\"age\",\"embarked\"] if c in df.columns]\n",
    "if cols_verif:\n",
    "    print(\"\\nNulos tras imputación:\")\n",
    "    display(df[cols_verif].isna().sum())\n"
   ]
  },
  {
   "cell_type": "markdown",
   "id": "5adc769e-41be-4f56-87e5-97d313701edc",
   "metadata": {},
   "source": [
    "## Celda 5 — univariado"
   ]
  },
  {
   "cell_type": "code",
   "execution_count": 5,
   "id": "fff0c49e-8eb3-4313-95ac-e8b07fc32228",
   "metadata": {},
   "outputs": [
    {
     "data": {
      "image/png": "[encoded data removed]",
      "text/plain": [
       "<Figure size 640x480 with 1 Axes>"
      ]
     },
     "metadata": {},
     "output_type": "display_data"
    },
    {
     "data": {
      "image/png": "[encoded data removed]",
      "text/plain": [
       "<Figure size 640x480 with 1 Axes>"
      ]
     },
     "metadata": {},
     "output_type": "display_data"
    }
   ],
   "source": [
    "df[\"age\"].dropna().plot(kind=\"hist\", bins=30)\n",
    "plt.title(\"Distribución de edad\")\n",
    "plt.xlabel(\"Edad\"); plt.ylabel(\"Frecuencia\")\n",
    "plt.show()\n",
    "\n",
    "sns.countplot(x=\"survived\", data=df)\n",
    "plt.title(\"Conteo: sobrevivió (0/1)\")\n",
    "plt.show()\n"
   ]
  },
  {
   "cell_type": "markdown",
   "id": "2a669fae-8da7-4195-af73-e931248fb6e0",
   "metadata": {},
   "source": [
    "### plot_hist_age.png\n",
    "```bash\n",
    "**Qué es:** Histograma de distribución de edades\n",
    "**Qué muestra:** Pico en 20-30 años, pocos niños y ancianos\n",
    "**Insight:** Mayoría pasajeros eran jóvenes adultos\n",
    "```\n",
    "\n",
    "### plot_count_survived.png\n",
    "```bash\n",
    "**Qué es:** Gráfico de barras de supervivencia\n",
    "**Qué muestra:** 549 muertos vs 342 vivos (38% supervivencia)\n",
    "**Insight:** Mayoría de pasajeros murió en el desastre\n",
    "```"
   ]
  },
  {
   "cell_type": "markdown",
   "id": "67840c4b-de6a-4e3c-8cd4-596a7c0d5440",
   "metadata": {},
   "source": [
    "## Celda 6 — bivariado"
   ]
  },
  {
   "cell_type": "code",
   "execution_count": 6,
   "id": "a108ced2-9b34-4636-8be0-5e647cc6a1fd",
   "metadata": {},
   "outputs": [
    {
     "data": {
      "image/png": "[encoded data removed]",
      "text/plain": [
       "<Figure size 640x480 with 1 Axes>"
      ]
     },
     "metadata": {},
     "output_type": "display_data"
    },
    {
     "data": {
      "image/png": "[encoded data removed]",
      "text/plain": [
       "<Figure size 640x480 with 1 Axes>"
      ]
     },
     "metadata": {},
     "output_type": "display_data"
    }
   ],
   "source": [
    "if \"fare\" in df.columns:\n",
    "    sns.boxplot(x=\"survived\", y=\"fare\", data=df)\n",
    "    plt.title(\"Fare por sobrevivencia\")\n",
    "    plt.show()\n",
    "\n",
    "if set([\"sex\",\"survived\"]).issubset(df.columns):\n",
    "    sns.countplot(x=\"sex\", hue=\"survived\", data=df)\n",
    "    plt.title(\"Sobrevivencia por sexo\")\n",
    "    plt.show()\n"
   ]
  },
  {
   "cell_type": "markdown",
   "id": "f462882a-2d09-4dfe-afb3-54749a69dafd",
   "metadata": {},
   "source": [
    "### plot_box_fare_survived.png\n",
    "```bash\n",
    "**Qué es:** Boxplot de tarifas por supervivencia\n",
    "**Qué muestra:** Supervivientes pagaron tarifas MÁS ALTAS\n",
    "**Insight:** La clase social influyó en supervivencia\n",
    "```\n",
    "\n",
    "### plot_count_sex_survived.png\n",
    "```bash\n",
    "**Qué es:** Barras agrupadas de sexo vs supervivencia\n",
    "**Qué muestra:** Mayoría mujeres vivas, mayoría hombres muertos\n",
    "**Insight:** \"Mujeres y niños primero\" se cumplió\n",
    "```"
   ]
  },
  {
   "cell_type": "markdown",
   "id": "b295db83-f7e3-41a2-b22d-f1ce9babc6f3",
   "metadata": {},
   "source": [
    "## Celda 7 — correlación y outliers"
   ]
  },
  {
   "cell_type": "markdown",
   "id": "944d3d92-5ae5-4fc8-894b-370cb865b16a",
   "metadata": {},
   "source": [
    "**FASE 7: Outliers**\n",
    "\n",
    "Detecta usando método IQR\n",
    "Conserva outliers como legítimos (ancianos, primera clase)"
   ]
  },
  {
   "cell_type": "code",
   "execution_count": 7,
   "id": "f17b286f-0a59-42af-abe4-a2009b0b9772",
   "metadata": {},
   "outputs": [
    {
     "data": {
      "image/png": "[encoded data removed]",
      "text/plain": [
       "<Figure size 640x480 with 2 Axes>"
      ]
     },
     "metadata": {},
     "output_type": "display_data"
    },
    {
     "name": "stdout",
     "output_type": "stream",
     "text": [
      "Outliers en age: 32 (límites: 0.38, 57.38)\n"
     ]
    },
    {
     "data": {
      "image/png": "[encoded data removed]",
      "text/plain": [
       "<Figure size 640x480 with 1 Axes>"
      ]
     },
     "metadata": {},
     "output_type": "display_data"
    },
    {
     "name": "stdout",
     "output_type": "stream",
     "text": [
      "Outliers en fare: 97 (límites: -31.44, 73.86)\n"
     ]
    },
    {
     "data": {
      "image/png": "[encoded data removed]",
      "text/plain": [
       "<Figure size 640x480 with 1 Axes>"
      ]
     },
     "metadata": {},
     "output_type": "display_data"
    },
    {
     "name": "stdout",
     "output_type": "stream",
     "text": [
      "T-test fare | survived: t=6.378, p=4.642e-10\n",
      "Chi-cuadrado sex ~ survived:\n"
     ]
    },
    {
     "data": {
      "text/html": [
       "<div>\n",
       "<style scoped>\n",
       "    .dataframe tbody tr th:only-of-type {\n",
       "        vertical-align: middle;\n",
       "    }\n",
       "\n",
       "    .dataframe tbody tr th {\n",
       "        vertical-align: top;\n",
       "    }\n",
       "\n",
       "    .dataframe thead th {\n",
       "        text-align: right;\n",
       "    }\n",
       "</style>\n",
       "<table border=\"1\" class=\"dataframe\">\n",
       "  <thead>\n",
       "    <tr style=\"text-align: right;\">\n",
       "      <th>survived</th>\n",
       "      <th>0</th>\n",
       "      <th>1</th>\n",
       "    </tr>\n",
       "    <tr>\n",
       "      <th>sex</th>\n",
       "      <th></th>\n",
       "      <th></th>\n",
       "    </tr>\n",
       "  </thead>\n",
       "  <tbody>\n",
       "    <tr>\n",
       "      <th>female</th>\n",
       "      <td>76</td>\n",
       "      <td>216</td>\n",
       "    </tr>\n",
       "    <tr>\n",
       "      <th>male</th>\n",
       "      <td>382</td>\n",
       "      <td>106</td>\n",
       "    </tr>\n",
       "  </tbody>\n",
       "</table>\n",
       "</div>"
      ],
      "text/plain": [
       "survived    0    1\n",
       "sex               \n",
       "female     76  216\n",
       "male      382  106"
      ]
     },
     "metadata": {},
     "output_type": "display_data"
    },
    {
     "name": "stdout",
     "output_type": "stream",
     "text": [
      "chi2=203.614, dof=1, p=3.397e-46\n"
     ]
    }
   ],
   "source": [
    "num_df = df.select_dtypes(include=[np.number])\n",
    "corr = num_df.corr(numeric_only=True)\n",
    "sns.heatmap(corr, annot=True, fmt=\".2f\", linewidths=.5)\n",
    "plt.title(\"Matriz de correlación\")\n",
    "plt.show()\n",
    "\n",
    "def outlier_mask_iqr(series, k=1.5):\n",
    "    q1, q3 = np.percentile(series.dropna(), [25, 75])\n",
    "    iqr = q3 - q1\n",
    "    low, high = q1 - k*iqr, q3 + k*iqr\n",
    "    return (series < low) | (series > high), (low, high)\n",
    "\n",
    "for col in [\"age\",\"fare\"]:\n",
    "    if col in df.columns:\n",
    "        mask, (lo, hi) = outlier_mask_iqr(df[col])\n",
    "        print(f\"Outliers en {col}: {int(mask.sum())} (límites: {lo:.2f}, {hi:.2f})\")\n",
    "        sns.boxplot(x=df[col]); plt.title(f\"Boxplot {col} (IQR)\"); plt.show()\n",
    "if set([\"fare\",\"survived\"]).issubset(df.columns):\n",
    "    g1 = df.loc[df[\"survived\"]==1, \"fare\"].dropna()\n",
    "    g0 = df.loc[df[\"survived\"]==0, \"fare\"].dropna()\n",
    "    t_stat, p_val = stats.ttest_ind(g1, g0, equal_var=False)\n",
    "    print(f\"T-test fare | survived: t={t_stat:.3f}, p={p_val:.3e}\")\n",
    "\n",
    "if set([\"sex\",\"survived\"]).issubset(df.columns):\n",
    "    cont = pd.crosstab(df[\"sex\"], df[\"survived\"])\n",
    "    chi2, p, dof, _ = stats.chi2_contingency(cont)\n",
    "    print(\"Chi-cuadrado sex ~ survived:\")\n",
    "    display(cont)\n",
    "    print(f\"chi2={chi2:.3f}, dof={dof}, p={p:.3e}\")\n"
   ]
  },
  {
   "cell_type": "markdown",
   "id": "9da929d7-b2eb-493a-9b0d-4434a0bd518d",
   "metadata": {},
   "source": []
  },
  {
   "cell_type": "markdown",
   "id": "7bf85023-c2a5-44bf-a62a-f2568bd584f2",
   "metadata": {},
   "source": [
    "### plot_corr_heatmap.png\n",
    "```bash\n",
    "**Qué es:** Matriz de correlación entre variables numéricas\n",
    "**Qué muestra:** Relaciones entre edad, tarifa, clase, familia, etc.\n",
    "**Insight:** Identificar variables redundantes\n",
    "```\n",
    "\n",
    "### plot_box_age.png y plot_box_fare.png\n",
    "```bash\n",
    "**Qué son:** Boxplots para detección de outliers\n",
    "**Qué muestran:** Ancianos y tarifas altas como valores atípicos\n",
    "**Insight:** Outliers legítimos (no errores)\n",
    "```"
   ]
  },
  {
   "cell_type": "markdown",
   "id": "18aae116-ae14-4c77-bffe-aea5b93c18bd",
   "metadata": {},
   "source": [
    "## Celda 8 — tests de hipótesis"
   ]
  },
  {
   "cell_type": "markdown",
   "id": "841fd645-c002-4ebd-bc16-33bd9596a429",
   "metadata": {},
   "source": [
    "**FASE 8: Validación Estadística**\n",
    "\n",
    "T-test: Confirma que supervivientes pagaron más (p < 0.05)\n",
    "Chi-cuadrado: Confirma asociación sexo-supervivencia (p < 0.05)"
   ]
  },
  {
   "cell_type": "code",
   "execution_count": 8,
   "id": "a7737337-c36a-40f1-8763-48652ad588a3",
   "metadata": {},
   "outputs": [
    {
     "name": "stdout",
     "output_type": "stream",
     "text": [
      "T-test fare | survived: t=6.378, p=4.642e-10\n",
      "Chi-cuadrado sex ~ survived:\n"
     ]
    },
    {
     "data": {
      "text/html": [
       "<div>\n",
       "<style scoped>\n",
       "    .dataframe tbody tr th:only-of-type {\n",
       "        vertical-align: middle;\n",
       "    }\n",
       "\n",
       "    .dataframe tbody tr th {\n",
       "        vertical-align: top;\n",
       "    }\n",
       "\n",
       "    .dataframe thead th {\n",
       "        text-align: right;\n",
       "    }\n",
       "</style>\n",
       "<table border=\"1\" class=\"dataframe\">\n",
       "  <thead>\n",
       "    <tr style=\"text-align: right;\">\n",
       "      <th>survived</th>\n",
       "      <th>0</th>\n",
       "      <th>1</th>\n",
       "    </tr>\n",
       "    <tr>\n",
       "      <th>sex</th>\n",
       "      <th></th>\n",
       "      <th></th>\n",
       "    </tr>\n",
       "  </thead>\n",
       "  <tbody>\n",
       "    <tr>\n",
       "      <th>female</th>\n",
       "      <td>76</td>\n",
       "      <td>216</td>\n",
       "    </tr>\n",
       "    <tr>\n",
       "      <th>male</th>\n",
       "      <td>382</td>\n",
       "      <td>106</td>\n",
       "    </tr>\n",
       "  </tbody>\n",
       "</table>\n",
       "</div>"
      ],
      "text/plain": [
       "survived    0    1\n",
       "sex               \n",
       "female     76  216\n",
       "male      382  106"
      ]
     },
     "metadata": {},
     "output_type": "display_data"
    },
    {
     "name": "stdout",
     "output_type": "stream",
     "text": [
      "chi2=203.614, dof=1, p=3.397e-46\n"
     ]
    }
   ],
   "source": [
    "if set([\"fare\",\"survived\"]).issubset(df.columns):\n",
    "    g1 = df.loc[df[\"survived\"]==1, \"fare\"].dropna()\n",
    "    g0 = df.loc[df[\"survived\"]==0, \"fare\"].dropna()\n",
    "    t_stat, p_val = stats.ttest_ind(g1, g0, equal_var=False)\n",
    "    print(f\"T-test fare | survived: t={t_stat:.3f}, p={p_val:.3e}\")\n",
    "\n",
    "if set([\"sex\",\"survived\"]).issubset(df.columns):\n",
    "    cont = pd.crosstab(df[\"sex\"], df[\"survived\"])\n",
    "    chi2, p, dof, _ = stats.chi2_contingency(cont)\n",
    "    print(\"Chi-cuadrado sex ~ survived:\")\n",
    "    display(cont)\n",
    "    print(f\"chi2={chi2:.3f}, dof={dof}, p={p:.3e}\")\n",
    "\n"
   ]
  },
  {
   "cell_type": "code",
   "execution_count": null,
   "id": "905ce6c4-72c4-494b-9e78-eb8aeaad0712",
   "metadata": {},
   "outputs": [],
   "source": []
  },
  {
   "cell_type": "markdown",
   "id": "deae5930-2b73-41d0-85c4-e5a859181058",
   "metadata": {},
   "source": [
    "## Celda 9 — exportar CSVs limpios"
   ]
  },
  {
   "cell_type": "code",
   "execution_count": 9,
   "id": "8dc2e8b0-5d82-4bef-98dd-3e7c4a1e28fb",
   "metadata": {},
   "outputs": [
    {
     "name": "stdout",
     "output_type": "stream",
     "text": [
      "Guardados: titanic_clean.csv, titanic_encoded.csv\n"
     ]
    }
   ],
   "source": [
    "df_encoded = pd.get_dummies(df, drop_first=True)\n",
    "df.to_csv(\"titanic_clean.csv\", index=False)\n",
    "df_encoded.to_csv(\"titanic_encoded.csv\", index=False)\n",
    "print(\"Guardados: titanic_clean.csv, titanic_encoded.csv\")\n"
   ]
  },
  {
   "cell_type": "markdown",
   "id": "6825f03e-e207-442f-b903-71ca2768852c",
   "metadata": {},
   "source": [
    "📋 ARCHIVOS CSV (2 datasets procesados):\n",
    "\n",
    "```bash\n",
    "# 1. titanic_clean.csv\n",
    "\n",
    "Qué es: Datos originales pero limpios\n",
    "Contiene: Valores imputados, sin duplicados, tipos corregidos\n",
    "Uso: Para análisis posterior manteniendo interpretabilidad\n",
    "\n",
    "\n",
    "# 2. titanic_encoded.csv\n",
    "\n",
    "Qué es: Datos codificados para Machine Learning\n",
    "Contiene: Variables categóricas convertidas a números (one-hot encoding)\n",
    "Uso: Listo para entrenar algoritmos de IA\n",
    "```"
   ]
  },
  {
   "cell_type": "markdown",
   "id": "443152c1-bd64-4292-8ae6-4906d515044c",
   "metadata": {},
   "source": [
    "🎯 INSIGHTS PRINCIPALES DESCUBIERTOS:\n",
    "\n",
    "**Factor género es CRÍTICO** - Diferencia dramática hombre vs mujer\n",
    "**Clase social importa** - Tarifas altas = mayor supervivencia\n",
    "**Protocolo marítimo cumplido** - \"Mujeres y niños primero\"\n",
    "**Variables engineered útiles** - family_size puede mejorar predicciones\n",
    "**Datos de calidad** - Pocos problemas tras limpieza\n",
    "\n",
    "Este script es un ejemplo perfecto de EDA profesional aplicando toda la teoría que estudiamos. "
   ]
  }
 ],
 "metadata": {
  "kernelspec": {
   "display_name": "Python (eda-titanic)",
   "language": "python",
   "name": "eda-titanic"
  },
  "language_info": {
   "codemirror_mode": {
    "name": "ipython",
    "version": 3
   },
   "file_extension": ".py",
   "mimetype": "text/x-python",
   "name": "python",
   "nbconvert_exporter": "python",
   "pygments_lexer": "ipython3",
   "version": "3.13.5"
  }
 },
 "nbformat": 4,
 "nbformat_minor": 5
}
