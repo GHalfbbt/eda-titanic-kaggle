{
 "cells": [
  {
   "cell_type": "markdown",
   "id": "7956fe8b-4f21-4699-bb49-126d1a12ceeb",
   "metadata": {},
   "source": [
    "# Notebook EDA del Titanic con datos de Kaggle"
   ]
  },
  {
   "cell_type": "markdown",
   "id": "072bbee4-60e8-4352-93cd-4f9185e0d5c7",
   "metadata": {},
   "source": [
    "# Celda 1 — Imports y ajustes:\n",
    "Configuración inicial: Imports y ajustes\n",
    "Utilidades (guardar imágenes/tablas; no toca README)"
   ]
  },
  {
   "cell_type": "code",
   "execution_count": 1,
   "id": "5555a104-7147-4b60-b2b8-3ece097686a0",
   "metadata": {},
   "outputs": [],
   "source": [
    "# Celda 1 — Imports y ajustes:\n",
    "# Utilidades (guardar imágenes/tablas; no toca README)\n",
    "# Importar librerías necesarias\n",
    "\n",
    "%matplotlib inline\n",
    "\n",
    "from pathlib import Path                 # Manejo de rutas y carpetas\n",
    "import matplotlib.pyplot as plt          # Gráficos base (Matplotlib)\n",
    "import pandas as pd                      # DataFrames\n",
    "import numpy as np                       # Cálculo numérico (percentiles, etc.)\n",
    "import warnings; warnings.filterwarnings(\"ignore\")\n",
    "import seaborn as sns\n",
    "from pathlib import Path\n",
    "from scipy import stats\n",
    "from sklearn.impute import SimpleImputer\n",
    "sns.set_theme()\n",
    "\n",
    "# Se guardan los PNG generados de gráficos y tablas en la carpeta figures/\n",
    "# Las imágenes se sobrescriben de una ejecución a otra\n",
    "# Las imágenes las podremos presentar en el propio README.md llamando desde el mismo a la referencia al figures/<name>.png\n",
    "\n",
    "FIG_DIR = Path(\"figures\")\n",
    "FIG_DIR.mkdir(parents=True, exist_ok=True)\n",
    "\n",
    "\n",
    "def savefig(name, dpi=150, tight=True):\n",
    "    \"\"\"Guarda la figura actual en figures/<name>.png (sobrescribe).\"\"\"\n",
    "    out = FIG_DIR / f\"{name}.png\"\n",
    "    if tight:\n",
    "        plt.savefig(out, dpi=dpi, bbox_inches='tight')\n",
    "    else:\n",
    "        plt.savefig(out, dpi=dpi)\n",
    "    print('Guardado:', out)\n",
    "\n",
    "def save_table_image(df_or_series, name: str, title: str | None = None,\n",
    "                     fontsize: int = 10, col_width: float = 2.2,\n",
    "                     row_height: float = 0.6, max_rows: int | None = 30,\n",
    "                     round_ndigits: int | None = 2):\n",
    "    \"\"\"Renderiza un DataFrame/Series como PNG en figures/<name>.png (sobrescribe).\"\"\"\n",
    "    if isinstance(df_or_series, pd.Series):\n",
    "        df = df_or_series.to_frame()\n",
    "    else:\n",
    "        df = df_or_series.copy()\n",
    "    if round_ndigits is not None:\n",
    "        for c in df.select_dtypes(include=[np.number]).columns:\n",
    "            df[c] = df[c].round(round_ndigits)\n",
    "    df.index = df.index.map(str)\n",
    "    df.columns = df.columns.map(str)\n",
    "    overflow_note = ''\n",
    "    if max_rows is not None and len(df) > max_rows:\n",
    "        df = df.iloc[:max_rows, :]\n",
    "        overflow_note = f' (truncado a {max_rows} filas)'\n",
    "    n_rows, n_cols = df.shape\n",
    "    fig_w = max(6, col_width * (n_cols + 1))\n",
    "    fig_h = max(2.5, row_height * (n_rows + 2))\n",
    "    fig, ax = plt.subplots(figsize=(fig_w, fig_h))\n",
    "    ax.axis('off')\n",
    "    if title:\n",
    "        ax.set_title(title + overflow_note, fontsize=fontsize+2, pad=10)\n",
    "    table = ax.table(cellText=df.values, colLabels=df.columns, rowLabels=df.index,\n",
    "                     cellLoc='center', loc='center')\n",
    "    table.auto_set_font_size(False)\n",
    "    table.set_fontsize(fontsize)\n",
    "    table.scale(1.0, 1.2)\n",
    "    out_path = FIG_DIR / f\"{name}.png\"\n",
    "    plt.savefig(out_path, dpi=200, bbox_inches='tight')\n",
    "    plt.close(fig)\n",
    "    print('Tabla guardada:', out_path)"
   ]
  },
  {
   "cell_type": "markdown",
   "id": "b99007d8-629e-4139-8b53-45b10043ee8a",
   "metadata": {},
   "source": [
    "# FASE 1 Exploración incial: Reconocimiento del Dataset\n",
    "Carga 891 pasajeros, 15 características\n",
    "Identifica tipos: numéricos vs categóricos vs texto"
   ]
  },
  {
   "cell_type": "markdown",
   "id": "9ea17125-7463-4734-9887-2654bf94bbda",
   "metadata": {},
   "source": [
    "## Celda 2 — cargar Kaggle CSV (normalizamos nombres)"
   ]
  },
  {
   "cell_type": "markdown",
   "id": "a5983c3e-e745-40ef-b6ad-12c75e4e13f5",
   "metadata": {},
   "source": [
    "**Estructura del dataset:**\n",
    "\n",
    "Conocer la estructura del conjunto de datos, los tipos de variables y obtener un primer vistazo de estos, es esencial para identificar posibles problemas y tomar decisiones informadas sobre cómo proceder con el análisis. \n",
    "\n",
    "La estructura del dataset se refiere a cómo están organizados los datos y su formato general. Al comprender la estructura, podemos saber qué esperar de ellos y cómo acceder a la información necesaria.\n",
    "\n",
    "**- Filas y columnas:** Es importante verificar cuántas filas (registros) y columnas (características) contiene el conjunto de datos. Esto se puede hacer con la función df.shape en Pandas.\n",
    "**- Nombres de las columnas:** Identificar los nombres de las columnas es clave para saber qué variables se están analizando. Se puede visualizar con df.columns.\n",
    "**- Tamaño y dimensiones:** Si los datos son grandes, es útil comprobar las primeras filas o una muestra aleatoria para conocer la \"dimensión\" de los datos sin sobrecargar la memoria. Se puede usar df.head() o df.sample().\n",
    "**- Tipo de archivo:** El dataset puede estar en varios formatos, como CSV, Excel, JSON, SQL, etc. Es importante saber cómo leerlo y cargarlo correctamente dependiendo de su formato.\n",
    "\n",
    "**Tipos de Datos o variabes:**\n",
    "\n",
    "**- Datos Numéricos:**\t\t\t(datos que podemos medir)\n",
    " **•\tContinuos:** Pueden tomar cualquier valor en un rango (altura, peso, temperatura)\n",
    " **•\tDiscretos:** Valores enteros específicos (número de hijos, cantidad de productos)\n",
    "\n",
    "**Tratamiento en EDA:**\n",
    "•\tEstadísticas descriptivas (media, mediana, desviación estándar)\n",
    "•\tHistogramas, boxplots, gráficos de densidad\n",
    "•\tAnálisis de distribución y detección de outliers\n",
    "\n",
    "\n",
    "**- Datos Categóricos:\t(datos con etiquetas, clasificación)\n",
    "  **•\tNominales:** Sin orden inherente (color, género, país)\n",
    "  **•\tOrdinales:** Con orden específico o lógico (educación: primaria < secundaria < universitaria)\n",
    "\n",
    "**Tratamiento en EDA:**\n",
    "•\tTablas de frecuencia y porcentajes\n",
    "•\tGráficos de barras, pie charts\n",
    "•\tAnálisis de moda y distribución de categorías\n",
    "\n",
    "**- Datos Temporales:**\n",
    "  **•\tFechas, timestamps, series de tiempo**\n",
    "\n",
    "Tratamiento en EDA:\n",
    "•\tAnálisis de tendencias temporales\n",
    "•\tEstacionalidad y patrones cíclicos\n",
    "•\tGráficos de líneas temporales\n",
    "\n",
    "Consideraciones especiales del tratamiento de datos en EDA:\n",
    "**•\tDatos categóricos:** Sólo se puede calcular la moda como medida de tendencia central\n",
    "**•\tDatos ordinales:** Permiten cálculos de mediana y percentiles, pero no operaciones aritméticas complejas\n",
    "**•\tDatos numéricos:** Permiten todas las operaciones estadísticas y visualizaciones\n",
    "\n"
   ]
  },
  {
   "cell_type": "markdown",
   "id": "2a978e1f-c72b-4839-aeae-1764d22cc12f",
   "metadata": {},
   "source": [
    "**Primer Vistazo a los Datos**\n",
    "\n",
    "Un primer vistazo a los datos nos permite verificar la calidad de la información y detectar posibles problemas. Aquí algunos pasos iniciales a realizar:\n",
    "\n",
    "**•\tRevisión de las primeras filas:** Obtener un resumen rápido de los primeros registros del dataset usando **df.head()**. Esto muestra las primeras filas y ayuda a detectar posibles problemas como datos mal ingresados.\n"
   ]
  },
  {
   "cell_type": "code",
   "execution_count": 2,
   "id": "8610e4eb-37af-4ade-8c1c-e6cb3e4f8bf0",
   "metadata": {},
   "outputs": [
    {
     "data": {
      "text/html": [
       "<div>\n",
       "<style scoped>\n",
       "    .dataframe tbody tr th:only-of-type {\n",
       "        vertical-align: middle;\n",
       "    }\n",
       "\n",
       "    .dataframe tbody tr th {\n",
       "        vertical-align: top;\n",
       "    }\n",
       "\n",
       "    .dataframe thead th {\n",
       "        text-align: right;\n",
       "    }\n",
       "</style>\n",
       "<table border=\"1\" class=\"dataframe\">\n",
       "  <thead>\n",
       "    <tr style=\"text-align: right;\">\n",
       "      <th></th>\n",
       "      <th>survived</th>\n",
       "      <th>pclass</th>\n",
       "      <th>sex</th>\n",
       "      <th>age</th>\n",
       "      <th>sibsp</th>\n",
       "      <th>parch</th>\n",
       "      <th>fare</th>\n",
       "      <th>embarked</th>\n",
       "    </tr>\n",
       "  </thead>\n",
       "  <tbody>\n",
       "    <tr>\n",
       "      <th>0</th>\n",
       "      <td>0</td>\n",
       "      <td>3</td>\n",
       "      <td>male</td>\n",
       "      <td>22.0</td>\n",
       "      <td>1</td>\n",
       "      <td>0</td>\n",
       "      <td>7.2500</td>\n",
       "      <td>S</td>\n",
       "    </tr>\n",
       "    <tr>\n",
       "      <th>1</th>\n",
       "      <td>1</td>\n",
       "      <td>1</td>\n",
       "      <td>female</td>\n",
       "      <td>38.0</td>\n",
       "      <td>1</td>\n",
       "      <td>0</td>\n",
       "      <td>71.2833</td>\n",
       "      <td>C</td>\n",
       "    </tr>\n",
       "    <tr>\n",
       "      <th>2</th>\n",
       "      <td>1</td>\n",
       "      <td>3</td>\n",
       "      <td>female</td>\n",
       "      <td>26.0</td>\n",
       "      <td>0</td>\n",
       "      <td>0</td>\n",
       "      <td>7.9250</td>\n",
       "      <td>S</td>\n",
       "    </tr>\n",
       "    <tr>\n",
       "      <th>3</th>\n",
       "      <td>1</td>\n",
       "      <td>1</td>\n",
       "      <td>female</td>\n",
       "      <td>35.0</td>\n",
       "      <td>1</td>\n",
       "      <td>0</td>\n",
       "      <td>53.1000</td>\n",
       "      <td>S</td>\n",
       "    </tr>\n",
       "    <tr>\n",
       "      <th>4</th>\n",
       "      <td>0</td>\n",
       "      <td>3</td>\n",
       "      <td>male</td>\n",
       "      <td>35.0</td>\n",
       "      <td>0</td>\n",
       "      <td>0</td>\n",
       "      <td>8.0500</td>\n",
       "      <td>S</td>\n",
       "    </tr>\n",
       "  </tbody>\n",
       "</table>\n",
       "</div>"
      ],
      "text/plain": [
       "   survived  pclass     sex   age  sibsp  parch     fare embarked\n",
       "0         0       3    male  22.0      1      0   7.2500        S\n",
       "1         1       1  female  38.0      1      0  71.2833        C\n",
       "2         1       3  female  26.0      0      0   7.9250        S\n",
       "3         1       1  female  35.0      1      0  53.1000        S\n",
       "4         0       3    male  35.0      0      0   8.0500        S"
      ]
     },
     "metadata": {},
     "output_type": "display_data"
    },
    {
     "name": "stdout",
     "output_type": "stream",
     "text": [
      "Shape: (891, 8)\n",
      "survived       int64\n",
      "pclass         int64\n",
      "sex         category\n",
      "age          float64\n",
      "sibsp          int64\n",
      "parch          int64\n",
      "fare         float64\n",
      "embarked    category\n",
      "dtype: object\n",
      "Tabla guardada: figures\\tbl_head_raw.png\n",
      "Tabla guardada: figures\\tbl_dtypes.png\n",
      "Tabla guardada: figures\\tbl_shape.png\n"
     ]
    }
   ],
   "source": [
    "# === Celda 2: Carga Kaggle, normaliza nombres y guarda tablas/imágenes al README ===\n",
    "\n",
    "# Celda 2 — Carga de datos desde Kaggle y normalización\n",
    "train = pd.read_csv(\"data/train.csv\")\n",
    "\n",
    "cols_map = {\n",
    "    \"Survived\": \"survived\",\n",
    "    \"Pclass\":   \"pclass\",\n",
    "    \"Sex\":      \"sex\",\n",
    "    \"Age\":      \"age\",\n",
    "    \"SibSp\":    \"sibsp\",\n",
    "    \"Parch\":    \"parch\",\n",
    "    \"Fare\":     \"fare\",\n",
    "    \"Embarked\": \"embarked\",\n",
    "}\n",
    "existing = [c for c in cols_map if c in train.columns]\n",
    "df = train[existing].rename(columns=cols_map)\n",
    "\n",
    "# Tipos recomendados\n",
    "if \"survived\" in df.columns: df[\"survived\"] = df[\"survived\"].astype(int)\n",
    "if \"sex\" in df.columns: df[\"sex\"] = df[\"sex\"].astype(\"category\")\n",
    "if \"embarked\" in df.columns: df[\"embarked\"] = df[\"embarked\"].astype(\"category\")\n",
    "\n",
    "# Primeras filas del dataset\n",
    "display(df.head()); print(\"Shape:\", df.shape); print(df.dtypes)\n",
    "\n",
    "# Guardar imágenes de tablas\n",
    "save_table_image(df.head(), \"tbl_head_raw\", title=\"Head (raw normalizado)\", round_ndigits=None)\n",
    "dtypes_tbl = df.dtypes.astype(str).to_frame(\"dtype\")\n",
    "save_table_image(dtypes_tbl, \"tbl_dtypes\", title=\"Tipos de datos\", round_ndigits=None)\n",
    "shape_tbl = pd.DataFrame({\"value\":[df.shape[0], df.shape[1]]}, index=[\"rows\",\"cols\"])\n",
    "save_table_image(shape_tbl, \"tbl_shape\", title=\"Shape del DataFrame\", round_ndigits=None)\n"
   ]
  },
  {
   "cell_type": "markdown",
   "id": "3d00dcf3-e2ba-497c-96de-ab9e1d6a78d8",
   "metadata": {},
   "source": [
    "# FASE 2 Evaluación de la calidad:\n",
    "Detecta: age (177 nulos), cabin (687 nulos), embarked (2 nulos) Estadísticas: 38% supervivencia, edades 0.42-80 años, tarifas 0-512£\n"
   ]
  },
  {
   "cell_type": "markdown",
   "id": "1e91bdfd-532a-4aca-ba34-db07b88f8884",
   "metadata": {},
   "source": [
    "# Celda 3 — Inspección y diagnóstico"
   ]
  },
  {
   "cell_type": "markdown",
   "id": "888bed55-8b0e-4c0c-a4ff-daa9dfa4309f",
   "metadata": {},
   "source": [
    "**•\tRevisión de tipos de datos:** Verificar que los tipos de datos de cada columna sean correctos (por ejemplo, asegurarse de que las fechas estén en formato de fecha). Se puede hacer con **df.dtypes**.\n",
    "**•\tValores faltantes o nulos:** Identificar columnas con valores faltantes usando **df.isnull().sum()**, **df.isna().sum()**. Esto puede ayudar a identificar si es necesario imputar o eliminar datos.\n",
    "**•\tEstadísticas descriptivas básicas:** Obtener un resumen de las estadísticas básicas (media, mediana, desviación estándar, etc.) con **df.describe()**. Esto es útil para detectar anomalías o valores atípicos de forma temprana.\n"
   ]
  },
  {
   "cell_type": "code",
   "execution_count": 3,
   "id": "2fb6f91b-a1c6-427d-bd78-74f93fcaf24f",
   "metadata": {
    "scrolled": true
   },
   "outputs": [
    {
     "data": {
      "text/plain": [
       "age         177\n",
       "embarked      2\n",
       "pclass        0\n",
       "survived      0\n",
       "sex           0\n",
       "sibsp         0\n",
       "parch         0\n",
       "fare          0\n",
       "dtype: int64"
      ]
     },
     "metadata": {},
     "output_type": "display_data"
    },
    {
     "name": "stdout",
     "output_type": "stream",
     "text": [
      "Tabla guardada: figures\\tbl_nulls.png\n"
     ]
    },
    {
     "data": {
      "text/html": [
       "<div>\n",
       "<style scoped>\n",
       "    .dataframe tbody tr th:only-of-type {\n",
       "        vertical-align: middle;\n",
       "    }\n",
       "\n",
       "    .dataframe tbody tr th {\n",
       "        vertical-align: top;\n",
       "    }\n",
       "\n",
       "    .dataframe thead th {\n",
       "        text-align: right;\n",
       "    }\n",
       "</style>\n",
       "<table border=\"1\" class=\"dataframe\">\n",
       "  <thead>\n",
       "    <tr style=\"text-align: right;\">\n",
       "      <th></th>\n",
       "      <th>survived</th>\n",
       "      <th>pclass</th>\n",
       "      <th>age</th>\n",
       "      <th>sibsp</th>\n",
       "      <th>parch</th>\n",
       "      <th>fare</th>\n",
       "    </tr>\n",
       "  </thead>\n",
       "  <tbody>\n",
       "    <tr>\n",
       "      <th>count</th>\n",
       "      <td>891.000000</td>\n",
       "      <td>891.000000</td>\n",
       "      <td>714.000000</td>\n",
       "      <td>891.000000</td>\n",
       "      <td>891.000000</td>\n",
       "      <td>891.000000</td>\n",
       "    </tr>\n",
       "    <tr>\n",
       "      <th>mean</th>\n",
       "      <td>0.383838</td>\n",
       "      <td>2.308642</td>\n",
       "      <td>29.699118</td>\n",
       "      <td>0.523008</td>\n",
       "      <td>0.381594</td>\n",
       "      <td>32.204208</td>\n",
       "    </tr>\n",
       "    <tr>\n",
       "      <th>std</th>\n",
       "      <td>0.486592</td>\n",
       "      <td>0.836071</td>\n",
       "      <td>14.526497</td>\n",
       "      <td>1.102743</td>\n",
       "      <td>0.806057</td>\n",
       "      <td>49.693429</td>\n",
       "    </tr>\n",
       "    <tr>\n",
       "      <th>min</th>\n",
       "      <td>0.000000</td>\n",
       "      <td>1.000000</td>\n",
       "      <td>0.420000</td>\n",
       "      <td>0.000000</td>\n",
       "      <td>0.000000</td>\n",
       "      <td>0.000000</td>\n",
       "    </tr>\n",
       "    <tr>\n",
       "      <th>25%</th>\n",
       "      <td>0.000000</td>\n",
       "      <td>2.000000</td>\n",
       "      <td>20.125000</td>\n",
       "      <td>0.000000</td>\n",
       "      <td>0.000000</td>\n",
       "      <td>7.910400</td>\n",
       "    </tr>\n",
       "    <tr>\n",
       "      <th>50%</th>\n",
       "      <td>0.000000</td>\n",
       "      <td>3.000000</td>\n",
       "      <td>28.000000</td>\n",
       "      <td>0.000000</td>\n",
       "      <td>0.000000</td>\n",
       "      <td>14.454200</td>\n",
       "    </tr>\n",
       "    <tr>\n",
       "      <th>75%</th>\n",
       "      <td>1.000000</td>\n",
       "      <td>3.000000</td>\n",
       "      <td>38.000000</td>\n",
       "      <td>1.000000</td>\n",
       "      <td>0.000000</td>\n",
       "      <td>31.000000</td>\n",
       "    </tr>\n",
       "    <tr>\n",
       "      <th>max</th>\n",
       "      <td>1.000000</td>\n",
       "      <td>3.000000</td>\n",
       "      <td>80.000000</td>\n",
       "      <td>8.000000</td>\n",
       "      <td>6.000000</td>\n",
       "      <td>512.329200</td>\n",
       "    </tr>\n",
       "  </tbody>\n",
       "</table>\n",
       "</div>"
      ],
      "text/plain": [
       "         survived      pclass         age       sibsp       parch        fare\n",
       "count  891.000000  891.000000  714.000000  891.000000  891.000000  891.000000\n",
       "mean     0.383838    2.308642   29.699118    0.523008    0.381594   32.204208\n",
       "std      0.486592    0.836071   14.526497    1.102743    0.806057   49.693429\n",
       "min      0.000000    1.000000    0.420000    0.000000    0.000000    0.000000\n",
       "25%      0.000000    2.000000   20.125000    0.000000    0.000000    7.910400\n",
       "50%      0.000000    3.000000   28.000000    0.000000    0.000000   14.454200\n",
       "75%      1.000000    3.000000   38.000000    1.000000    0.000000   31.000000\n",
       "max      1.000000    3.000000   80.000000    8.000000    6.000000  512.329200"
      ]
     },
     "metadata": {},
     "output_type": "display_data"
    },
    {
     "name": "stdout",
     "output_type": "stream",
     "text": [
      "Tabla guardada: figures\\tbl_desc_num.png\n",
      "El dataset tiene 891 filas y 8 columnas\n"
     ]
    },
    {
     "data": {
      "text/html": [
       "<div>\n",
       "<style scoped>\n",
       "    .dataframe tbody tr th:only-of-type {\n",
       "        vertical-align: middle;\n",
       "    }\n",
       "\n",
       "    .dataframe tbody tr th {\n",
       "        vertical-align: top;\n",
       "    }\n",
       "\n",
       "    .dataframe thead th {\n",
       "        text-align: right;\n",
       "    }\n",
       "</style>\n",
       "<table border=\"1\" class=\"dataframe\">\n",
       "  <thead>\n",
       "    <tr style=\"text-align: right;\">\n",
       "      <th></th>\n",
       "      <th>count</th>\n",
       "      <th>unique</th>\n",
       "      <th>top</th>\n",
       "      <th>freq</th>\n",
       "    </tr>\n",
       "  </thead>\n",
       "  <tbody>\n",
       "    <tr>\n",
       "      <th>sex</th>\n",
       "      <td>891</td>\n",
       "      <td>2</td>\n",
       "      <td>male</td>\n",
       "      <td>577</td>\n",
       "    </tr>\n",
       "    <tr>\n",
       "      <th>embarked</th>\n",
       "      <td>889</td>\n",
       "      <td>3</td>\n",
       "      <td>S</td>\n",
       "      <td>644</td>\n",
       "    </tr>\n",
       "  </tbody>\n",
       "</table>\n",
       "</div>"
      ],
      "text/plain": [
       "         count unique   top freq\n",
       "sex        891      2  male  577\n",
       "embarked   889      3     S  644"
      ]
     },
     "metadata": {},
     "output_type": "display_data"
    },
    {
     "name": "stdout",
     "output_type": "stream",
     "text": [
      "Tabla guardada: figures\\tbl_desc_cat.png\n"
     ]
    },
    {
     "data": {
      "text/html": [
       "<div>\n",
       "<style scoped>\n",
       "    .dataframe tbody tr th:only-of-type {\n",
       "        vertical-align: middle;\n",
       "    }\n",
       "\n",
       "    .dataframe tbody tr th {\n",
       "        vertical-align: top;\n",
       "    }\n",
       "\n",
       "    .dataframe thead th {\n",
       "        text-align: right;\n",
       "    }\n",
       "</style>\n",
       "<table border=\"1\" class=\"dataframe\">\n",
       "  <thead>\n",
       "    <tr style=\"text-align: right;\">\n",
       "      <th></th>\n",
       "      <th>nunique</th>\n",
       "    </tr>\n",
       "  </thead>\n",
       "  <tbody>\n",
       "    <tr>\n",
       "      <th>embarked</th>\n",
       "      <td>3</td>\n",
       "    </tr>\n",
       "    <tr>\n",
       "      <th>sex</th>\n",
       "      <td>2</td>\n",
       "    </tr>\n",
       "  </tbody>\n",
       "</table>\n",
       "</div>"
      ],
      "text/plain": [
       "          nunique\n",
       "embarked        3\n",
       "sex             2"
      ]
     },
     "metadata": {},
     "output_type": "display_data"
    },
    {
     "name": "stdout",
     "output_type": "stream",
     "text": [
      "Tabla guardada: figures\\tbl_cardinality.png\n"
     ]
    }
   ],
   "source": [
    "# === Celda 3: Inspección inicial + guardar tablas + actualizar README ===\n",
    "\n",
    "# Información sobre tipos de datos y valores nulos por columna\n",
    "nulls = df.isna().sum().sort_values(ascending=False)\n",
    "display(nulls)\n",
    "save_table_image(nulls, \"tbl_nulls\", title=\"Valores nulos por columna\", round_ndigits=None)\n",
    "\n",
    "# Estadísticas descriptivas básicas\n",
    "desc_num = df.describe()\n",
    "display(desc_num)\n",
    "save_table_image(desc_num, \"tbl_desc_num\", title=\"Estadísticas (numéricas)\")\n",
    "\n",
    "# Verificar dimensiones del dataset\n",
    "print(f\"El dataset tiene {df.shape[0]} filas y {df.shape[1]} columnas\")\n",
    "\n",
    "cat_cols = df.select_dtypes(include=[\"object\",\"category\"]).columns\n",
    "if len(cat_cols):\n",
    "    desc_cat = df[cat_cols].describe().T\n",
    "    display(desc_cat)\n",
    "    save_table_image(desc_cat, \"tbl_desc_cat\", title=\"Estadísticas (categóricas)\", round_ndigits=None)\n",
    "\n",
    "    cardinal = df[cat_cols].nunique().sort_values(ascending=False).to_frame(\"nunique\")\n",
    "    display(cardinal)\n",
    "    save_table_image(cardinal, \"tbl_cardinality\", title=\"Cardinalidad de categóricas\", round_ndigits=None)\n",
    "else:\n",
    "    print(\"(No hay columnas categóricas)\")"
   ]
  },
  {
   "cell_type": "markdown",
   "id": "53237e6a-1d0c-422f-956a-cdaa6cd90ea9",
   "metadata": {},
   "source": [
    "# FASE 3: Limpieza (Celda 4 a Celda 6)"
   ]
  },
  {
   "cell_type": "markdown",
   "id": "b9527a8e-1e2a-4c95-ba7e-a26cbeef8690",
   "metadata": {},
   "source": [
    "# Celda 4 — limpieza (duplicados, imputación, feature)\n",
    "Imputa age con mediana (más robusta que media) Imputa embarked con moda Crea family_size = siblings + parents + 1"
   ]
  },
  {
   "cell_type": "code",
   "execution_count": 4,
   "id": "535980ff-0b1b-4259-865d-56032064e6f2",
   "metadata": {},
   "outputs": [
    {
     "name": "stdout",
     "output_type": "stream",
     "text": [
      "Duplicados eliminados: 111\n"
     ]
    },
    {
     "data": {
      "text/plain": [
       "age         0\n",
       "embarked    0\n",
       "dtype: int64"
      ]
     },
     "metadata": {},
     "output_type": "display_data"
    },
    {
     "name": "stdout",
     "output_type": "stream",
     "text": [
      "Tabla guardada: figures\\tbl_head_post_clean.png\n",
      "Tabla guardada: figures\\tbl_nulls_post.png\n"
     ]
    }
   ],
   "source": [
    "# Celda 4 — Limpieza: duplicados, imputación, feature engineering\n",
    "\n",
    "before = len(df)\n",
    "df = df.drop_duplicates()\n",
    "print(\"Duplicados eliminados:\", before - len(df))\n",
    "\n",
    "if \"age\" in df.columns:\n",
    "    df[\"age\"] = SimpleImputer(strategy=\"median\").fit_transform(df[[\"age\"]]).ravel()\n",
    "\n",
    "if \"embarked\" in df.columns:\n",
    "    df[\"embarked\"] = df[\"embarked\"].astype(object)\n",
    "    df[\"embarked\"] = SimpleImputer(strategy=\"most_frequent\").fit_transform(df[[\"embarked\"]]).ravel()\n",
    "    df[\"embarked\"] = df[\"embarked\"].astype(\"category\")\n",
    "\n",
    "if {\"sibsp\",\"parch\"}.issubset(df.columns):\n",
    "    df[[\"sibsp\",\"parch\"]] = df[[\"sibsp\",\"parch\"]].fillna(0)\n",
    "    df[\"sibsp\"] = df[\"sibsp\"].astype(int)\n",
    "    df[\"parch\"] = df[\"parch\"].astype(int)\n",
    "    df[\"family_size\"] = df[\"sibsp\"] + df[\"parch\"] + 1\n",
    "\n",
    "cols_verif = [c for c in [\"age\",\"embarked\"] if c in df.columns]\n",
    "nulls_post = df[cols_verif].isna().sum() if cols_verif else pd.Series(dtype=\"int64\")\n",
    "display(nulls_post)\n",
    "\n",
    "save_table_image(df.head(), \"tbl_head_post_clean\", title=\"Head tras limpieza\", round_ndigits=None)\n",
    "if len(nulls_post):\n",
    "    save_table_image(nulls_post, \"tbl_nulls_post\", title=\"Nulos tras imputación\", round_ndigits=None)\n",
    "\n",
    "\n"
   ]
  },
  {
   "cell_type": "markdown",
   "id": "4623fa32-4678-4f07-b91c-d540cbd6c33b",
   "metadata": {},
   "source": [
    "# Celda 5: Análisis Univariado (hist edad + conteos survived) "
   ]
  },
  {
   "cell_type": "markdown",
   "id": "38b5fd23-6361-4ec9-9379-5c122db7ab1e",
   "metadata": {},
   "source": [
    "**Análisis Univariado:**\n",
    "\n",
    "El **análisis univariado** es el primer paso en la exploración de datos y se centra en examinar cada variable individualmente. Su objetivo es comprender la distribución, tendencia central y dispersión de los datos, además de identificar posibles valores atípicos.\n",
    "\n",
    "**- Distribución de Variables Individuales:**\n",
    "\n",
    "El análisis de la distribución de una variable ayuda a entender cómo se comportan los datos y si siguen una forma específica, como una distribución normal, uniforme o sesgada. Algunas técnicas clave incluyen:\n",
    "\n",
    "**•\tHistogramas:** Muestran la frecuencia de los valores en intervalos específicos, proporcionando una visión general de la forma de la distribución. Se pueden generar con **matplotlib.hist()** o **seaborn.histplot()**.\n",
    "\n",
    "**•\tGráficos de densidad (KDE):** Una alternativa más suave a los histogramas que usa funciones de estimación de densidad de kernel para visualizar la distribución (**seaborn.kdeplot()**).\n",
    "\n",
    "**•\tBoxplots:** Ayudan a identificar la mediana, cuartiles y valores atípicos de la distribución de una variable (**seaborn.boxplot()**).\n",
    "\n",
    "**- Medidas de Tendencia Central y Dispersión:**\n",
    "\n",
    "Las estadísticas descriptivas permiten resumir los datos y entender su comportamiento general. Entre las más importantes están:\n",
    "\n",
    "**- Medidas de tendencia central:**\n",
    "        Media ((\\mu)): Promedio de los valores de la variable.\n",
    "        Mediana: Valor central cuando los datos están ordenados, útil para distribuciones sesgadas.\n",
    "        Moda: Valor más frecuente en la distribución.\n",
    "\n",
    "**- Medidas de dispersión:**\n",
    "        Varianza ((\\sigma^2)): Indica qué tan dispersos están los datos respecto a la media.\n",
    "        Desviación estándar ((\\sigma)): Raíz cuadrada de la varianza, mide la dispersión en las mismas unidades que los datos.\n",
    "        Rango intercuartílico (IQR): Diferencia entre el tercer y el primer cuartil ((Q3 - Q1)), útil para detectar outliers.\n",
    "\n",
    "\n",
    "**- Identificación de Outliers**\n",
    "\n",
    "Los valores atípicos pueden distorsionar el análisis y afectar la precisión de los modelos. Algunas técnicas para detectarlos incluyen:\n",
    "\n",
    "**•\tMétodo del rango intercuartílico (IQR)**\n",
    "        Se consideran outliers los valores que están por debajo de (Q1 - 1.5 \\times IQR) o por encima de (Q3 + 1.5 \\times IQR).\n",
    "        Se pueden visualizar con boxplots.\n",
    "\n",
    "**•\tZ-score (puntaje Z)**\n",
    "        Mide cuántas desviaciones estándar se aleja un dato de la media.\n",
    "        Se usa el criterio de valores absolutos mayores a 3 para identificar outliers.\n",
    "\n",
    "**•\tGráficos de dispersión (scatter plots)**\n",
    "        Permiten observar puntos anómalos en distribuciones numéricas.\n",
    "\n"
   ]
  },
  {
   "cell_type": "code",
   "execution_count": 5,
   "id": "fff0c49e-8eb3-4313-95ac-e8b07fc32228",
   "metadata": {},
   "outputs": [
    {
     "name": "stdout",
     "output_type": "stream",
     "text": [
      "Guardado: figures\\plot_hist_age.png\n"
     ]
    },
    {
     "data": {
      "image/png": "[encoded data removed]",
      "text/plain": [
       "<Figure size 640x480 with 1 Axes>"
      ]
     },
     "metadata": {},
     "output_type": "display_data"
    },
    {
     "name": "stdout",
     "output_type": "stream",
     "text": [
      "Guardado: figures\\plot_count_survived.png\n"
     ]
    },
    {
     "data": {
      "image/png": "[encoded data removed]",
      "text/plain": [
       "<Figure size 640x480 with 1 Axes>"
      ]
     },
     "metadata": {},
     "output_type": "display_data"
    },
    {
     "name": "stdout",
     "output_type": "stream",
     "text": [
      "Tabla guardada: figures\\tbl_survived_counts.png\n"
     ]
    }
   ],
   "source": [
    "# === Celda 5: Univariado (hist age + conteo survived) ==\n",
    "\n",
    "imgs = []\n",
    "\n",
    "if \"age\" in df.columns:\n",
    "    plt.figure()\n",
    "    df[\"age\"].dropna().plot(kind=\"hist\", bins=30)\n",
    "    plt.title(\"Distribución de edad\"); plt.xlabel(\"Edad\"); plt.ylabel(\"Frecuencia\")\n",
    "    savefig(\"plot_hist_age\")\n",
    "    plt.show()\n",
    "\n",
    "if \"survived\" in df.columns:\n",
    "    plt.figure()\n",
    "    sns.countplot(x=\"survived\", data=df)\n",
    "    plt.title(\"Conteo: sobrevivió (0/1)\")\n",
    "    savefig(\"plot_count_survived\")\n",
    "    plt.show()\n",
    "\n",
    "    vc = df[\"survived\"].value_counts().rename_axis(\"survived\").to_frame(\"count\")\n",
    "    save_table_image(vc, \"tbl_survived_counts\", title=\"Conteo survived (0/1)\", round_ndigits=None)\n",
    "\n",
    "\n"
   ]
  },
  {
   "cell_type": "markdown",
   "id": "2a669fae-8da7-4195-af73-e931248fb6e0",
   "metadata": {},
   "source": [
    "### plot_hist_age.png\n",
    "```bash\n",
    "**Qué es:** Histograma de distribución de edades\n",
    "**Qué muestra:** Pico en 20-30 años, pocos niños y ancianos\n",
    "**Insight:** Mayoría pasajeros eran jóvenes adultos\n",
    "```\n",
    "\n",
    "### plot_count_survived.png\n",
    "```bash\n",
    "**Qué es:** Gráfico de barras de supervivencia\n",
    "**Qué muestra:** 549 muertos vs 342 vivos (38% supervivencia)\n",
    "**Insight:** Mayoría de pasajeros murió en el desastre\n",
    "```"
   ]
  },
  {
   "cell_type": "markdown",
   "id": "ee4bf68f-2e4f-4c9f-b0a7-9660df72ddf3",
   "metadata": {},
   "source": [
    "# Celda 6: Análisis Bivariado"
   ]
  },
  {
   "cell_type": "markdown",
   "id": "cdb2ac12-1607-4d68-9cc3-948b92176fe3",
   "metadata": {},
   "source": [
    "**Análisis Bivariado y Multivariado**\n",
    "\n",
    "El **análisis bivariado y multivariado** se centra en estudiar las relaciones entre dos o más variables dentro de un conjunto de datos. Mientras que el análisis bivariado examina la relación entre dos variables, el análisis multivariado permite comprender interacciones más complejas entre múltiples variables.\n",
    "5.1. Relaciones entre Variables\n",
    "\n",
    "El primer paso en el análisis bivariado y multivariado es determinar si existe una relación entre las variables y qué tipo de relación presentan:\n",
    "\n",
    "**•\tRelaciones entre variables numéricas**\n",
    "        Gráficos de dispersión (scatter plots): Útiles para visualizar relaciones lineales o no lineales.\n",
    "        Diagramas de hexbin o pair plots con **seaborn.pairplot()** para detectar patrones.\n",
    "\n",
    "**•\tRelaciones entre una variable categórica y una numérica**\n",
    "        Boxplots y violin plots: Comparan la distribución de una variable numérica dentro de diferentes categorías.\n",
    "        Diagramas de barras (bar plots): Comparan promedios o medianas entre grupos.\n",
    "\n",
    "**•\tRelaciones entre variables categóricas**\n",
    "        Tablas de contingencia y gráficos de barras apiladas para visualizar distribuciones conjuntas.\n"
   ]
  },
  {
   "cell_type": "code",
   "execution_count": 6,
   "id": "a108ced2-9b34-4636-8be0-5e647cc6a1fd",
   "metadata": {},
   "outputs": [
    {
     "name": "stdout",
     "output_type": "stream",
     "text": [
      "Guardado: figures\\plot_box_fare_survived.png\n"
     ]
    },
    {
     "data": {
      "image/png": "[encoded data removed]",
      "text/plain": [
       "<Figure size 640x480 with 1 Axes>"
      ]
     },
     "metadata": {},
     "output_type": "display_data"
    },
    {
     "name": "stdout",
     "output_type": "stream",
     "text": [
      "Guardado: figures\\plot_count_sex_survived.png\n"
     ]
    },
    {
     "data": {
      "image/png": "[encoded data removed]",
      "text/plain": [
       "<Figure size 640x480 with 1 Axes>"
      ]
     },
     "metadata": {},
     "output_type": "display_data"
    }
   ],
   "source": [
    "# === Celda 6: Bivariado (fare vs survived, sex vs survived) ===\n",
    "\n",
    "if {\"fare\",\"survived\"}.issubset(df.columns):\n",
    "    plt.figure()\n",
    "    sns.boxplot(x=\"survived\", y=\"fare\", data=df)\n",
    "    plt.title(\"Fare por supervivencia\")\n",
    "    savefig(\"plot_box_fare_survived\")\n",
    "    plt.show()\n",
    "\n",
    "if {\"sex\",\"survived\"}.issubset(df.columns):\n",
    "    plt.figure()\n",
    "    sns.countplot(x=\"sex\", hue=\"survived\", data=df)\n",
    "    plt.title(\"Supervivencia por sexo\")\n",
    "    savefig(\"plot_count_sex_survived\")\n",
    "    plt.show()\n",
    "\n",
    "\n"
   ]
  },
  {
   "cell_type": "markdown",
   "id": "f462882a-2d09-4dfe-afb3-54749a69dafd",
   "metadata": {},
   "source": [
    "### plot_box_fare_survived.png\n",
    "```bash\n",
    "**Qué es:** Boxplot de tarifas por supervivencia\n",
    "**Qué muestra:** Supervivientes pagaron tarifas MÁS ALTAS\n",
    "**Insight:** La clase social influyó en supervivencia\n",
    "```\n",
    "\n",
    "### plot_count_sex_survived.png\n",
    "```bash\n",
    "**Qué es:** Barras agrupadas de sexo vs supervivencia\n",
    "**Qué muestra:** Mayoría mujeres vivas, mayoría hombres muertos\n",
    "**Insight:** \"Mujeres y niños primero\" se cumplió\n",
    "```"
   ]
  },
  {
   "cell_type": "markdown",
   "id": "ce14f186-35d0-4359-a555-981e388c2e45",
   "metadata": {},
   "source": [
    "# FASE 4 Análisis profundo. Outliers:"
   ]
  },
  {
   "cell_type": "markdown",
   "id": "06ff2db8-4243-4fc7-a29f-e42c683ce07a",
   "metadata": {},
   "source": [
    "# Celda 7: Matriz de Correlación y outliers\n",
    "Detecta usando método IQR Conserva outliers como legítimos (ancianos, primera clase)"
   ]
  },
  {
   "cell_type": "markdown",
   "id": "a1c032b5-ce29-4459-9295-6c391b41f8d6",
   "metadata": {},
   "source": [
    "**- Matrices de correlación**\n",
    "\n",
    "La correlación mide la relación lineal entre dos variables numéricas y se expresa en valores entre -1 y 1:\n",
    "\n",
    "    Coeficiente de correlación de Pearson:\n",
    "        Evalúa la relación lineal entre dos variables continuas.\n",
    "        Se calcula con df.corr(method='pearson') en pandas.\n",
    "\n",
    "    Coeficiente de correlación de Spearman:\n",
    "        Se usa para relaciones monótonas (no necesariamente lineales).\n",
    "        Se calcula con df.corr(method='spearman').\n",
    "\n",
    "    Mapa de calor de correlación\n",
    "        Se utiliza seaborn.heatmap(df.corr(), annot=True, cmap='coolwarm') para visualizar correlaciones de múltiples variables.\n",
    "\n",
    "**-\tComparación entre Grupos**\n",
    "\n",
    "Cuando se trabaja con datos categóricos y numéricos, es importante comparar los diferentes grupos para identificar diferencias significativas:\n",
    "\n",
    "    Pruebas estadísticas\n",
    "        T-test: Compara la media de dos grupos para determinar si son significativamente diferentes.\n",
    "        ANOVA: Evalúa diferencias entre más de dos grupos.\n",
    "        Chi-cuadrado: Determina si hay asociación entre variables categóricas.\n",
    "\n",
    "    Visualizaciones útiles\n",
    "        Boxplots y violin plots para comparar la distribución entre grupos.\n",
    "        Gráficos de barras y conteo (seaborn.countplot()) para variables categóricas.\n",
    "\n",
    "\n",
    "**-\tAnálisis de Outliers**\n",
    "\n",
    "Los **outliers o valores atípicos** son observaciones que se desvían significativamente del resto de los datos. Estos pueden deberse a errores en la recopilación de datos, variabilidad natural o la presencia de eventos inusuales. Detectarlos y manejarlos adecuadamente es fundamental para mejorar la calidad del análisis y la precisión de los modelos predictivos.\n",
    "\n",
    "**- Detección de Valores Atípicos**\n",
    "\n",
    "Antes de decidir cómo tratar los outliers, es importante identificarlos correctamente. Algunas señales de que un valor puede ser atípico incluyen:\n",
    "\n",
    "    Valores extremadamente altos o bajos en comparación con la mayoría de los datos.\n",
    "    Impacto significativo en medidas estadísticas como la media y la desviación estándar.\n",
    "    Datos que no siguen la tendencia general observada en el conjunto de datos.\n",
    "\n",
    "**-\tMétodos para Identificar Outliers**\n",
    "\n",
    "Existen varias técnicas estadísticas y visuales para detectar valores atípicos: \n",
    "\n",
    "**•\tMétodos Estadísticos**\n",
    "\n",
    "    Rango intercuartílico (IQR)\n",
    "    Z-score (Puntaje Z)\n",
    "\n",
    "**•\tMétodos Visuales**\n",
    "\n",
    "    **•\tBoxplots: Muestran los valores atípicos como puntos fuera del rango intercuartílico.**\n",
    "    **•\tGráficos de dispersión (scatter plots): Permiten identificar valores que se desvían del patrón general.**\n",
    "    **•\tHistogramas y KDE plots: Ayudan a detectar distribuciones asimétricas o valores extremos.**\n",
    "\n",
    "\n",
    "**-\tEstrategias para Manejar Outliers**\n",
    "\n",
    "Dependiendo del contexto y el impacto de los outliers en el análisis, existen diversas estrategias para tratarlos:\n",
    "\n",
    "    **•\tEliminación de outliers**\n",
    "        Se recomienda solo si hay evidencia clara de que el dato es erróneo o irrelevante.\n",
    "        Puede aplicarse cuando los valores extremos afectan de manera significativa el análisis.\n",
    "\n",
    "    **•\tTransformación de datos**\n",
    "        Uso de transformaciones como logaritmo (log), raíz cuadrada (sqrt) o Box-Cox para reducir la influencia de valores extremos.\n",
    "\n",
    "    **•\tImputación de valores**\n",
    "        Reemplazo de outliers con la media, mediana o valores interpolados.\n",
    "        Uso de modelos predictivos para estimar valores razonables.\n",
    "\n",
    "    **•\tTratamiento en modelos predictivos**\n",
    "        Algunos algoritmos, como los árboles de decisión, son menos sensibles a outliers, mientras que otros, como la regresión lineal, pueden verse afectados significativamente.\n",
    "\n",
    "El análisis y tratamiento de outliers es clave para garantizar que los datos sean representativos y evitar distorsiones en las conclusiones. \n",
    "\n",
    "\n",
    "**- Transformación de Variables**\n",
    "\n",
    "La **transformación de variables** es una etapa fundamental en el procesamiento de datos, ya que permite mejorar la interpretación, el rendimiento de los modelos y la calidad del análisis. Incluye técnicas para escalar datos numéricos, convertir variables categóricas y crear nuevas características que enriquezcan el conjunto de datos.\n",
    "\n",
    "**- Normalización de Datos**\n",
    "\n",
    "La normalización es clave cuando los datos tienen escalas diferentes o valores extremos que pueden afectar el rendimiento de los modelos. Existen varios métodos:\n",
    "\n",
    "    **•\tMin-Max Scaling (Escalado Min-Max)**\n",
    "    **•\tEstandarización (Z-score Scaling)**\n",
    "    **•\tTransformaciones No Lineales**\n",
    "    \n",
    "\n",
    "**- Codificación de Variables Categóricas**\n",
    "\n",
    "Cuando las variables contienen valores de texto o categorías, es necesario convertirlas a una representación numérica para que los modelos puedan procesarlas.\n",
    "\n",
    "    One-Hot Encoding (Codificación One-Hot)\n",
    "        Crea una columna binaria para cada categoría.\n",
    "        Se usa pd.get_dummies(df, columns=['columna']) en Pandas o OneHotEncoder() en Scikit-Learn.\n",
    "        Aumenta la dimensionalidad del conjunto de datos.\n",
    "\n",
    "    Label Encoding (Codificación Ordinal)\n",
    "        Asigna un número entero a cada categoría.\n",
    "        Se usa LabelEncoder() en sklearn.preprocessing.\n",
    "        Adecuado solo cuando hay un orden natural entre categorías.\n",
    "\n",
    "    Target Encoding (Codificación basada en la variable objetivo)\n",
    "        Reemplaza cada categoría con la media de la variable objetivo.\n",
    "        Útil en problemas de clasificación, pero puede causar sobreajuste.\n",
    "\n",
    "\n",
    "**-\tCreación de Nuevas Características**\n",
    "\n",
    "La ingeniería de características puede mejorar significativamente el desempeño de los modelos. Algunas estrategias incluyen:\n",
    "\n",
    "    **Combinaciones de variables**\n",
    "        Crear nuevas variables a partir de la suma, resta, multiplicación o división de otras.\n",
    "        Ejemplo: Precio por metro cuadrado = precio_total / metros_cuadrados.\n",
    "\n",
    "    **•\tExtracción de información temporal**\n",
    "        Extraer día de la semana, mes o hora de una fecha para detectar patrones temporales.\n",
    "\n",
    "    **•\tAgrupación de valores**\n",
    "        Convertir variables numéricas en rangos (binned features).\n",
    "        Ejemplo: Categorizar edades en joven, adulto y mayor.\n",
    "\n",
    "    **•\tAnálisis de texto**\n",
    "        Extraer la longitud de textos o la frecuencia de palabras clave.\n",
    "\n",
    "El análisis de la relación entre las variables predictoras y la variable objetivo es una etapa fundamental en cualquier proyecto de modelado. Permite identificar qué características tienen un mayor impacto en la predicción y ayuda a tomar decisiones informadas sobre la selección de variables relevantes.\n",
    "\n",
    "Una variable objetivo (también conocida como variable dependiente, target variable, outcome variable o label) es la variable que se desea predecir o explicar en un análisis de datos o en un modelo de machine learning. Es el punto central de cualquier modelo predictivo, ya que es la variable cuyo comportamiento o valor tratamos de entender o pronosticar a partir de otras variables (las variables predictoras o independientes).\n",
    "\n",
    "**•\tImportancia de Características**\n",
    "\n",
    "Para entender qué variables influyen más en la variable objetivo, se pueden aplicar varias técnicas:\n",
    "\n",
    "    **•\tCorrelación (para variables numéricas)**\n",
    "        Se usa el coeficiente de correlación de Pearson para medir la relación lineal entre una variable y la variable objetivo.\n",
    "        Un valor cercano a 1 o -1 indica una fuerte relación, mientras que un valor cercano a 0 sugiere una relación débil o nula.\n",
    "        Se calcula con **df.corr()** en Pandas.\n",
    "\n",
    "    **•\tImportancia en modelos de Machine Learning**\n",
    "    **•\tÁrboles de decisión** y modelos basados en **RandomForest** permiten calcular la importancia de las características automáticamente.\n",
    "        Se obtiene con feature_importances_ en **sklearn.ensemble.RandomForestClassifier** o **RandomForestRegressor**.\n",
    "\n",
    "    **•\tInformación mutua (para variables categóricas y mixtas)**\n",
    "        Se basa en la teoría de la información para medir cuánto conocimiento sobre la variable objetivo proporciona cada variable.\n",
    "        Se implementa con mutual **info_classif** o **mutual_info_regression** en **Scikit-Learn**.\n",
    "\n",
    "\n",
    "**•\tDiferencias entre Grupos en la Variable Objetivo**\n",
    "\n",
    "Si la variable objetivo es categórica (por ejemplo, en problemas de clasificación), es útil comparar cómo varían las características entre diferentes clases:\n",
    "\n",
    "    **•\tAnálisis de medias por categoría**\n",
    "    **•\tComparar la media de una variable numérica en función de la clase de la variable objetivo.**\n",
    "    **•\tSe realiza con df.groupby('variable_objetivo').mean().**\n",
    "\n",
    "    **•\tPruebas estadísticas para detectar diferencias significativas**\n",
    "    **•\tPrueba t de Student (para comparar dos grupos).**\n",
    "    **•\tANOVA (para comparar más de dos grupos).**\n",
    "    **•\tChi-cuadrado (para analizar asociaciones entre variables categóricas).**\n",
    "\n",
    "Si la variable objetivo es numérica (en problemas de regresión), se pueden analizar patrones de variación utilizando:\n",
    "\n",
    "    **•\tDiagramas de dispersión (scatter plots).**\n",
    "    **•\tDiagramas de cajas y bigotes (box plots).**\n",
    "    **•\tRegresiones lineales simples.**\n",
    "\n",
    "**•\tSelección Preliminar de Características**\n",
    "\n",
    "Una vez identificadas las relaciones con la variable objetivo, es posible reducir la dimensionalidad del conjunto de datos eliminando variables irrelevantes o redundantes. Algunas estrategias incluyen:\n",
    "\n",
    "    **•\tEliminar variables con baja correlación con la variable objetivo.**\n",
    "    **•\tDescartar variables con alta correlación entre sí (multicolinealidad), usando el Variance Inflation Factor (VIF).**\n",
    "    **•\tUtilizar técnicas automáticas de selección de características, como SelectKBest o Recursive Feature Elimination (RFE) en Scikit-Learn.**\n",
    "\n",
    "El análisis de relaciones con la variable objetivo es crucial para construir modelos eficientes, evitando la inclusión de variables que pueden añadir ruido o sobreajustar el modelo. \n"
   ]
  },
  {
   "cell_type": "code",
   "execution_count": 7,
   "id": "f17b286f-0a59-42af-abe4-a2009b0b9772",
   "metadata": {},
   "outputs": [
    {
     "name": "stdout",
     "output_type": "stream",
     "text": [
      "Guardado: figures\\plot_corr_heatmap.png\n"
     ]
    },
    {
     "data": {
      "image/png": "[encoded data removed]",
      "text/plain": [
       "<Figure size 640x480 with 2 Axes>"
      ]
     },
     "metadata": {},
     "output_type": "display_data"
    },
    {
     "name": "stdout",
     "output_type": "stream",
     "text": [
      "Outliers en age: 32 (límites: 0.38, 57.38)\n",
      "Guardado: figures\\plot_box_age.png\n"
     ]
    },
    {
     "data": {
      "image/png": "[encoded data removed]",
      "text/plain": [
       "<Figure size 640x480 with 1 Axes>"
      ]
     },
     "metadata": {},
     "output_type": "display_data"
    },
    {
     "name": "stdout",
     "output_type": "stream",
     "text": [
      "Outliers en fare: 97 (límites: -31.44, 73.86)\n",
      "Guardado: figures\\plot_box_fare.png\n"
     ]
    },
    {
     "data": {
      "image/png": "[encoded data removed]",
      "text/plain": [
       "<Figure size 640x480 with 1 Axes>"
      ]
     },
     "metadata": {},
     "output_type": "display_data"
    }
   ],
   "source": [
    "# Celda 7 — Correlación y outliers (IQR)\n",
    "num_df = df.select_dtypes(include=[np.number])\n",
    "corr = num_df.corr(numeric_only=True)\n",
    "\n",
    "plt.figure()\n",
    "ax = sns.heatmap(corr, annot=True, fmt=\".2f\", linewidths=.5)\n",
    "ax.set_title(\"Matriz de correlación\")\n",
    "savefig(\"plot_corr_heatmap\")\n",
    "plt.show()\n",
    "\n",
    "def outlier_mask_iqr(series, k=1.5):\n",
    "    q1, q3 = np.percentile(series.dropna(), [25, 75])\n",
    "    iqr = q3 - q1\n",
    "    low, high = q1 - k*iqr, q3 + k*iqr\n",
    "    return (series < low) | (series > high), (low, high)\n",
    "\n",
    "for col in [\"age\",\"fare\"]:\n",
    "    if col in df.columns:\n",
    "        mask, (lo, hi) = outlier_mask_iqr(df[col])\n",
    "        print(f\"Outliers en {col}: {int(mask.sum())} (límites: {lo:.2f}, {hi:.2f})\")\n",
    "        plt.figure()\n",
    "        sns.boxplot(x=df[col])\n",
    "        plt.title(f\"Boxplot {col} (IQR)\")\n",
    "        savefig(f\"plot_box_{col}\")\n",
    "        plt.show()\n"
   ]
  },
  {
   "cell_type": "markdown",
   "id": "9da929d7-b2eb-493a-9b0d-4434a0bd518d",
   "metadata": {},
   "source": []
  },
  {
   "cell_type": "markdown",
   "id": "7bf85023-c2a5-44bf-a62a-f2568bd584f2",
   "metadata": {},
   "source": [
    "### plot_corr_heatmap.png\n",
    "```bash\n",
    "**Qué es:** Matriz de correlación entre variables numéricas\n",
    "**Qué muestra:** Relaciones entre edad, tarifa, clase, familia, etc.\n",
    "**Insight:** Identificar variables redundantes\n",
    "```\n",
    "\n",
    "### plot_box_age.png y plot_box_fare.png\n",
    "```bash\n",
    "**Qué son:** Boxplots para detección de outliers\n",
    "**Qué muestran:** Ancianos y tarifas altas como valores atípicos\n",
    "**Insight:** Outliers legítimos (no errores)\n",
    "```"
   ]
  },
  {
   "cell_type": "markdown",
   "id": "c9452272-0edc-4ed7-a4f5-c31b4dec9bd7",
   "metadata": {},
   "source": [
    "# Celda 8: Validación estadística. Tests de hipótesis:\n",
    "T-test: Confirma que supervivientes pagaron más (p < 0.05) Chi-cuadrado: Confirma asociación sexo-supervivencia (p < 0.05)"
   ]
  },
  {
   "cell_type": "code",
   "execution_count": 8,
   "id": "a7737337-c36a-40f1-8763-48652ad588a3",
   "metadata": {},
   "outputs": [
    {
     "name": "stdout",
     "output_type": "stream",
     "text": [
      "T-test fare | survived: t=6.378, p=4.642e-10\n",
      "Chi-cuadrado sex ~ survived:\n"
     ]
    },
    {
     "data": {
      "text/html": [
       "<div>\n",
       "<style scoped>\n",
       "    .dataframe tbody tr th:only-of-type {\n",
       "        vertical-align: middle;\n",
       "    }\n",
       "\n",
       "    .dataframe tbody tr th {\n",
       "        vertical-align: top;\n",
       "    }\n",
       "\n",
       "    .dataframe thead th {\n",
       "        text-align: right;\n",
       "    }\n",
       "</style>\n",
       "<table border=\"1\" class=\"dataframe\">\n",
       "  <thead>\n",
       "    <tr style=\"text-align: right;\">\n",
       "      <th>survived</th>\n",
       "      <th>0</th>\n",
       "      <th>1</th>\n",
       "    </tr>\n",
       "    <tr>\n",
       "      <th>sex</th>\n",
       "      <th></th>\n",
       "      <th></th>\n",
       "    </tr>\n",
       "  </thead>\n",
       "  <tbody>\n",
       "    <tr>\n",
       "      <th>female</th>\n",
       "      <td>76</td>\n",
       "      <td>216</td>\n",
       "    </tr>\n",
       "    <tr>\n",
       "      <th>male</th>\n",
       "      <td>382</td>\n",
       "      <td>106</td>\n",
       "    </tr>\n",
       "  </tbody>\n",
       "</table>\n",
       "</div>"
      ],
      "text/plain": [
       "survived    0    1\n",
       "sex               \n",
       "female     76  216\n",
       "male      382  106"
      ]
     },
     "metadata": {},
     "output_type": "display_data"
    },
    {
     "name": "stdout",
     "output_type": "stream",
     "text": [
      "chi2=203.614, dof=1, p=3.397e-46\n",
      "Tabla guardada: figures\\tbl_contingency_sex_survived.png\n"
     ]
    }
   ],
   "source": [
    "# Celda 8 — Tests de hipótesis\n",
    "if {\"fare\",\"survived\"}.issubset(df.columns):\n",
    "    g1 = df.loc[df[\"survived\"]==1, \"fare\"].dropna()\n",
    "    g0 = df.loc[df[\"survived\"]==0, \"fare\"].dropna()\n",
    "    t_stat, p_val = stats.ttest_ind(g1, g0, equal_var=False)\n",
    "    print(f\"T-test fare | survived: t={t_stat:.3f}, p={p_val:.3e}\")\n",
    "\n",
    "if {\"sex\",\"survived\"}.issubset(df.columns):\n",
    "    cont = pd.crosstab(df[\"sex\"], df[\"survived\"])\n",
    "    chi2, p, dof, _ = stats.chi2_contingency(cont)\n",
    "    print(\"Chi-cuadrado sex ~ survived:\")\n",
    "    display(cont)\n",
    "    print(f\"chi2={chi2:.3f}, dof={dof}, p={p:.3e}\")\n",
    "    # (opcional) guardar tabla de contingencia:\n",
    "    save_table_image(cont, \"tbl_contingency_sex_survived\", title=\"Tabla contingencia sex~survived\", round_ndigits=None)\n",
    "\n"
   ]
  },
  {
   "cell_type": "markdown",
   "id": "f4aab9b3-4942-4890-acab-4314db33bb6e",
   "metadata": {},
   "source": [
    "# FASE 5 Conclusiones y preparación:"
   ]
  },
  {
   "cell_type": "markdown",
   "id": "deae5930-2b73-41d0-85c4-e5a859181058",
   "metadata": {},
   "source": [
    "## Celda 9 — exportar CSVs limpios"
   ]
  },
  {
   "cell_type": "markdown",
   "id": "19e010fe-3bf5-42cd-9ae9-2a2b8283000b",
   "metadata": {},
   "source": [
    "## Resumen y Conclusiones\n",
    "\n",
    "El **análisis exploratorio de datos (EDA)** proporciona una comprensión profunda de las características de los datos y sus relaciones. Al final de este proceso, es fundamental sintetizar los hallazgos, identificar problemas y formular recomendaciones para los siguientes pasos en el análisis o en la construcción de modelos. \n",
    "\n",
    "**Temas cubiertos:**\n",
    "\n",
    "**- Hallazgos Principales**\n",
    "\n",
    "El objetivo del resumen es destacar los hallazgos más importantes y relevantes que surgieron del EDA. Estos hallazgos pueden incluir:\n",
    "\n",
    "    **•\tDistribuciones de las variables:** Cómo se distribuyen los datos (normal, sesgada, etc.).\n",
    "    **•\tRelaciones entre variables:** Identificación de correlaciones significativas o relaciones entre variables predictoras y la variable objetivo.\n",
    "    **•\tDatos atípicos y valores faltantes:** Determinar si existen valores atípicos o si falta información importante en las variables.\n",
    "    **•\tCaracterísticas importantes:** Variables que tienen un impacto significativo en la variable objetivo, basadas en análisis estadísticos o técnicas de machine learning.\n",
    "\n",
    "Un buen resumen debe proporcionar una visión clara de las características del conjunto de datos y cómo estas características podrían influir en el modelo.\n",
    "\n",
    "\n",
    "**- Problemas Identificados**\n",
    "\n",
    "Durante el EDA, es común encontrar problemas que podrían afectar la calidad del análisis o la precisión de los modelos. Algunos de los problemas más comunes incluyen:\n",
    "\n",
    "    **•\tValores faltantes:** Grandes cantidades de datos ausentes en algunas columnas que podrían afectar el rendimiento del modelo.\n",
    "    **•\tOutliers:** Valores atípicos que pueden distorsionar las distribuciones y afectar la exactitud de los modelos predictivos.\n",
    "    **•\tMulticolinealidad:** Variables altamente correlacionadas entre sí, lo que puede causar problemas en modelos de regresión lineales o algoritmos sensibles a la multicolinealidad.\n",
    "    **•\tDistribuciones sesgadas:** Variables que no siguen una distribución normal y que pueden requerir transformaciones para mejorar el análisis.\n",
    "\n",
    "Identificar estos problemas es crucial para decidir cómo tratarlos antes de avanzar al modelado.\n",
    "\n",
    "\n",
    "**- Recomendaciones para Pasos Siguientes**\n",
    "\n",
    "Basado en los hallazgos y problemas identificados, se deben proponer recomendaciones claras para el análisis posterior. Algunas recomendaciones comunes incluyen:\n",
    "\n",
    "    **•\tManejo de valores faltantes:** Imputar valores faltantes o eliminar registros, dependiendo de la cantidad y la importancia de los datos faltantes.\n",
    "    **•\tTratamiento de outliers:** Eliminar, transformar o manejar los outliers, dependiendo de su impacto en el análisis.\n",
    "    **•\tSelección de características:** Elegir las características más relevantes basadas en su importancia para la variable objetivo, utilizando técnicas como la selección automática de características o la eliminación manual de aquellas con baja correlación.\n",
    "    **•\tTransformaciones de datos:** Normalizar o estandarizar variables cuando sea necesario para mejorar el rendimiento de ciertos modelos.\n",
    "    **•\tPruebas de validación:** Realizar validaciones cruzadas o pruebas adicionales para verificar la calidad del modelo antes de la implementación.\n",
    "\n"
   ]
  },
  {
   "cell_type": "code",
   "execution_count": 9,
   "id": "8dc2e8b0-5d82-4bef-98dd-3e7c4a1e28fb",
   "metadata": {},
   "outputs": [
    {
     "name": "stdout",
     "output_type": "stream",
     "text": [
      "Guardados: titanic_clean.csv, titanic_encoded.csv\n"
     ]
    }
   ],
   "source": [
    "# Celda 9 — Exportar CSVs limpios\n",
    "df_encoded = pd.get_dummies(df, drop_first=True)\n",
    "df.to_csv(\"titanic_clean.csv\", index=False)\n",
    "df_encoded.to_csv(\"titanic_encoded.csv\", index=False)\n",
    "print(\"Guardados: titanic_clean.csv, titanic_encoded.csv\")"
   ]
  },
  {
   "cell_type": "markdown",
   "id": "6825f03e-e207-442f-b903-71ca2768852c",
   "metadata": {},
   "source": [
    "📋 ARCHIVOS CSV (2 datasets procesados):\n",
    "\n",
    "```bash\n",
    "# 1. titanic_clean.csv\n",
    "\n",
    "Qué es: Datos originales pero limpios\n",
    "Contiene: Valores imputados, sin duplicados, tipos corregidos\n",
    "Uso: Para análisis posterior manteniendo interpretabilidad\n",
    "\n",
    "\n",
    "# 2. titanic_encoded.csv\n",
    "\n",
    "Qué es: Datos codificados para Machine Learning\n",
    "Contiene: Variables categóricas convertidas a números (one-hot encoding)\n",
    "Uso: Listo para entrenar algoritmos de IA\n",
    "```"
   ]
  },
  {
   "cell_type": "markdown",
   "id": "443152c1-bd64-4292-8ae6-4906d515044c",
   "metadata": {},
   "source": [
    "🎯 INSIGHTS PRINCIPALES DESCUBIERTOS:\n",
    "\n",
    "**Factor género es CRÍTICO** - Diferencia dramática hombre vs mujer\n",
    "**Clase social importa** - Tarifas altas = mayor supervivencia\n",
    "**Protocolo marítimo cumplido** - \"Mujeres y niños primero\"\n",
    "**Variables engineered útiles** - family_size puede mejorar predicciones\n",
    "**Datos de calidad** - Pocos problemas tras limpieza\n",
    "\n",
    "Este script es un ejemplo perfecto de EDA profesional aplicando toda la teoría que estudiamos. "
   ]
  }
 ],
 "metadata": {
  "kernelspec": {
   "display_name": "Python (eda-titanic)",
   "language": "python",
   "name": "eda-titanic"
  },
  "language_info": {
   "codemirror_mode": {
    "name": "ipython",
    "version": 3
   },
   "file_extension": ".py",
   "mimetype": "text/x-python",
   "name": "python",
   "nbconvert_exporter": "python",
   "pygments_lexer": "ipython3",
   "version": "3.13.5"
  }
 },
 "nbformat": 4,
 "nbformat_minor": 5
}
